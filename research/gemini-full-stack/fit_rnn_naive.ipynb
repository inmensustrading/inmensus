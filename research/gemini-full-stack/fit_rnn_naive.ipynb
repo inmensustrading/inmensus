{
 "cells": [
  {
   "cell_type": "code",
   "execution_count": 1,
   "metadata": {},
   "outputs": [
    {
     "name": "stderr",
     "output_type": "stream",
     "text": [
      "Using TensorFlow backend.\n"
     ]
    }
   ],
   "source": [
    "import matplotlib.pyplot as plt\n",
    "import pandas as pd\n",
    "import numpy as np\n",
    "import keras\n",
    "import os\n",
    "\n",
    "import rain"
   ]
  },
  {
   "cell_type": "code",
   "execution_count": 15,
   "metadata": {},
   "outputs": [
    {
     "name": "stdout",
     "output_type": "stream",
     "text": [
      "Model name: 2\n"
     ]
    }
   ],
   "source": [
    "rain.setCUDAVisible(\"0, 1\")\n",
    "\n",
    "MODEL_NAME = input(\"Model name: \")\n",
    "DATA_CACHE = \"data/df-cache.csv\"\n",
    "FREQUENCY = 30\n",
    "TIMESTEP_LEN = 100\n",
    "VALIDATION_RATIO = 0.15\n",
    "EPOCHS = 16\n",
    "BATCH_SIZE = 512"
   ]
  },
  {
   "cell_type": "code",
   "execution_count": 29,
   "metadata": {},
   "outputs": [],
   "source": [
    "#model\n",
    "model = keras.models.Sequential()\n",
    "#timesteps of history - with a vector of size 1 per timestep\n",
    "model.add(keras.layers.GRU(64, input_shape = (TIMESTEP_LEN, 1), return_sequences = True))\n",
    "model.add(keras.layers.BatchNormalization())\n",
    "model.add(keras.layers.Activation(\"tanh\"))\n",
    "model.add(keras.layers.Dropout(0.2))\n",
    "model.add(keras.layers.GRU(64))\n",
    "model.add(keras.layers.BatchNormalization())\n",
    "model.add(keras.layers.Activation(\"tanh\"))\n",
    "model.add(keras.layers.Dropout(0.2))\n",
    "model.add(keras.layers.Dense(1))\n",
    "model.add(keras.layers.Activation(\"linear\"))\n",
    "model.compile(loss = \"mean_squared_logarithmic_error\", \n",
    "    optimizer = keras.optimizers.adam(lr = 0.0003))"
   ]
  },
  {
   "cell_type": "code",
   "execution_count": 34,
   "metadata": {},
   "outputs": [
    {
     "name": "stderr",
     "output_type": "stream",
     "text": [
      "c:\\ProgramData\\Miniconda3\\envs\\inmensus\\lib\\site-packages\\ipykernel_launcher.py:8: SettingWithCopyWarning: \n",
      "A value is trying to be set on a copy of a slice from a DataFrame\n",
      "\n",
      "See the caveats in the documentation: http://pandas.pydata.org/pandas-docs/stable/indexing.html#indexing-view-versus-copy\n",
      "  \n"
     ]
    },
    {
     "data": {
      "image/png": "[encoded data removed]",
      "text/plain": [
       "<Figure size 1440x720 with 1 Axes>"
      ]
     },
     "metadata": {},
     "output_type": "display_data"
    }
   ],
   "source": [
    "#data\n",
    "df = pd.read_csv(rain.toRelPath(DATA_CACHE))\n",
    "df = df.iloc[::int(2 * FREQUENCY), :]\n",
    "df.reset_index(inplace = True)\n",
    "mid = df[\"mid\"]\n",
    "mid.fillna(method = \"bfill\", inplace = True)\n",
    "\n",
    "mid[mid != 0] = 7000\n",
    "\n",
    "plt.figure(figsize = (20, 10))\n",
    "plt.plot(mid)\n",
    "plt.legend()\n",
    "plt.show()"
   ]
  },
  {
   "cell_type": "code",
   "execution_count": 35,
   "metadata": {},
   "outputs": [
    {
     "name": "stdout",
     "output_type": "stream",
     "text": [
      "Patters: 12140\n",
      "10319 1821\n",
      "[[7000.]\n",
      " [7000.]\n",
      " [7000.]\n",
      " [7000.]\n",
      " [7000.]\n",
      " [7000.]\n",
      " [7000.]\n",
      " [7000.]\n",
      " [7000.]\n",
      " [7000.]\n",
      " [7000.]\n",
      " [7000.]\n",
      " [7000.]\n",
      " [7000.]\n",
      " [7000.]\n",
      " [7000.]\n",
      " [7000.]\n",
      " [7000.]\n",
      " [7000.]\n",
      " [7000.]\n",
      " [7000.]\n",
      " [7000.]\n",
      " [7000.]\n",
      " [7000.]\n",
      " [7000.]\n",
      " [7000.]\n",
      " [7000.]\n",
      " [7000.]\n",
      " [7000.]\n",
      " [7000.]\n",
      " [7000.]\n",
      " [7000.]\n",
      " [7000.]\n",
      " [7000.]\n",
      " [7000.]\n",
      " [7000.]\n",
      " [7000.]\n",
      " [7000.]\n",
      " [7000.]\n",
      " [7000.]\n",
      " [7000.]\n",
      " [7000.]\n",
      " [7000.]\n",
      " [7000.]\n",
      " [7000.]\n",
      " [7000.]\n",
      " [7000.]\n",
      " [7000.]\n",
      " [7000.]\n",
      " [7000.]\n",
      " [7000.]\n",
      " [7000.]\n",
      " [7000.]\n",
      " [7000.]\n",
      " [7000.]\n",
      " [7000.]\n",
      " [7000.]\n",
      " [7000.]\n",
      " [7000.]\n",
      " [7000.]\n",
      " [7000.]\n",
      " [7000.]\n",
      " [7000.]\n",
      " [7000.]\n",
      " [7000.]\n",
      " [7000.]\n",
      " [7000.]\n",
      " [7000.]\n",
      " [7000.]\n",
      " [7000.]\n",
      " [7000.]\n",
      " [7000.]\n",
      " [7000.]\n",
      " [7000.]\n",
      " [7000.]\n",
      " [7000.]\n",
      " [7000.]\n",
      " [7000.]\n",
      " [7000.]\n",
      " [7000.]\n",
      " [7000.]\n",
      " [7000.]\n",
      " [7000.]\n",
      " [7000.]\n",
      " [7000.]\n",
      " [7000.]\n",
      " [7000.]\n",
      " [7000.]\n",
      " [7000.]\n",
      " [7000.]\n",
      " [7000.]\n",
      " [7000.]\n",
      " [7000.]\n",
      " [7000.]\n",
      " [7000.]\n",
      " [7000.]\n",
      " [7000.]\n",
      " [7000.]\n",
      " [7000.]\n",
      " [7000.]] 7000.0\n"
     ]
    }
   ],
   "source": [
    "#prep\n",
    "train = [[], []]\n",
    "for a in range(len(mid) - TIMESTEP_LEN):\n",
    "    train[0].append(mid[a:a + TIMESTEP_LEN].values)\n",
    "    train[1].append(mid[a + TIMESTEP_LEN])\n",
    "train[0] = np.reshape(train[0], (len(train[0]), TIMESTEP_LEN, 1))\n",
    "print(\"Patters:\", len(train[0]))\n",
    "\n",
    "valCount = int(VALIDATION_RATIO * len(train[0]))\n",
    "validation = [train[0][-valCount:], train[1][-valCount:]]\n",
    "train = [train[0][:-valCount], train[1][:-valCount]]\n",
    "print(len(train[0]), len(validation[0]))\n",
    "print(train[0][0], train[1][0])"
   ]
  },
  {
   "cell_type": "code",
   "execution_count": null,
   "metadata": {},
   "outputs": [
    {
     "name": "stdout",
     "output_type": "stream",
     "text": [
      "Train on 10319 samples, validate on 1821 samples\n",
      "Epoch 1/16\n",
      "10319/10319 [==============================] - 79s 8ms/step - loss: 62.9723 - val_loss: 53.1471\n",
      "Epoch 2/16\n",
      "10319/10319 [==============================] - 83s 8ms/step - loss: 53.8881 - val_loss: 53.3796\n",
      "Epoch 3/16\n",
      " 1152/10319 [==>...........................] - ETA: 1:04 - loss: 50.8928"
     ]
    }
   ],
   "source": [
    "#fit\n",
    "model.fit(\n",
    "    train[0], \n",
    "    train[1], \n",
    "    epochs = EPOCHS, \n",
    "    batch_size = BATCH_SIZE, \n",
    "    callbacks = [\n",
    "        keras.callbacks.ModelCheckpoint(\n",
    "            rain.toRelPath(\"weights/\" + MODEL_NAME + \"_{epoch}_{val_loss:.4f}.h5\"), \n",
    "            save_weights_only = True\n",
    "        )\n",
    "    ],\n",
    "    validation_data = (\n",
    "        validation[0], \n",
    "        validation[1])\n",
    "    )"
   ]
  },
  {
   "cell_type": "code",
   "execution_count": null,
   "metadata": {},
   "outputs": [],
   "source": []
  }
 ],
 "metadata": {
  "kernelspec": {
   "display_name": "Python 3",
   "language": "python",
   "name": "python3"
  },
  "language_info": {
   "codemirror_mode": {
    "name": "ipython",
    "version": 3
   },
   "file_extension": ".py",
   "mimetype": "text/x-python",
   "name": "python",
   "nbconvert_exporter": "python",
   "pygments_lexer": "ipython3",
   "version": "3.6.6"
  }
 },
 "nbformat": 4,
 "nbformat_minor": 2
}
