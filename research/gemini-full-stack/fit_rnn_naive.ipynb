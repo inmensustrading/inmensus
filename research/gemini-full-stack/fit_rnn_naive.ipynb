{
 "cells": [
  {
   "cell_type": "code",
   "execution_count": 1,
   "metadata": {},
   "outputs": [
    {
     "name": "stderr",
     "output_type": "stream",
     "text": [
      "Using TensorFlow backend.\n"
     ]
    }
   ],
   "source": [
    "import matplotlib.pyplot as plt\n",
    "import pandas as pd\n",
    "import numpy as np\n",
    "import keras\n",
    "import mpld3\n",
    "\n",
    "import rain"
   ]
  },
  {
   "cell_type": "code",
   "execution_count": 2,
   "metadata": {},
   "outputs": [],
   "source": [
    "mpld3.disable_notebook()\n",
    "#mpld3.enable_notebook()"
   ]
  },
  {
   "cell_type": "code",
   "execution_count": 3,
   "metadata": {},
   "outputs": [
    {
     "name": "stdout",
     "output_type": "stream",
     "text": [
      "0         7436.995\n",
      "1         7437.015\n",
      "2         7437.015\n",
      "3         7437.015\n",
      "4         7437.015\n",
      "5         7437.030\n",
      "6         7436.995\n",
      "7         7436.980\n",
      "8         7437.010\n",
      "9         7436.970\n",
      "10        7436.985\n",
      "11        7436.970\n",
      "12        7436.965\n",
      "13        7436.955\n",
      "14        7436.955\n",
      "15        7436.955\n",
      "16        7436.985\n",
      "17        7436.995\n",
      "18        7437.040\n",
      "19        7437.040\n",
      "20        7437.040\n",
      "21        7437.370\n",
      "22        7437.370\n",
      "23        7437.370\n",
      "24        7437.380\n",
      "25        7437.385\n",
      "26        7437.385\n",
      "27        7437.775\n",
      "28        7437.365\n",
      "29        7437.365\n",
      "            ...   \n",
      "734329    7385.135\n",
      "734330    7385.150\n",
      "734331    7387.795\n",
      "734332    7391.740\n",
      "734333    7392.775\n",
      "734334    7391.615\n",
      "734335    7391.860\n",
      "734336    7391.850\n",
      "734337    7392.100\n",
      "734338    7392.090\n",
      "734339    7392.135\n",
      "734340    7392.090\n",
      "734341    7392.105\n",
      "734342    7392.095\n",
      "734343    7392.105\n",
      "734344    7392.100\n",
      "734345    7392.100\n",
      "734346    7392.100\n",
      "734347    7390.010\n",
      "734348    7391.995\n",
      "734349    7391.995\n",
      "734350    7392.125\n",
      "734351    7392.005\n",
      "734352    7390.020\n",
      "734353    7390.025\n",
      "734354    7390.020\n",
      "734355    7390.020\n",
      "734356    7389.960\n",
      "734357    7390.010\n",
      "734358    7390.025\n",
      "Name: mid, Length: 734359, dtype: float64\n"
     ]
    }
   ],
   "source": [
    "FREQUENCY = 0.5\n",
    "\n",
    "df = pd.read_csv(rain.toRelPath(\"data/df-cache.csv\"))\n",
    "df = df.iloc[::(1000 * FREQUENCY // 500), :]\n",
    "df.reset_index(inplace = True)\n",
    "\n",
    "mid = df[\"mid\"]\n",
    "mid.fillna(method = \"bfill\", inplace = True)\n",
    "print(mid)"
   ]
  },
  {
   "cell_type": "code",
   "execution_count": null,
   "metadata": {},
   "outputs": [],
   "source": [
    "model = keras.models.Sequential()\n",
    "model.add(keras.layers.Dense(512, input_shape = (50,)))\n",
    "model.add(keras.layers.BatchNormalization())\n",
    "model.add(keras.layers.Activation(\"relu\"))\n",
    "model.add(keras.layers.Dropout(0.5))\n",
    "model.add(keras.layers.Dense(512))\n",
    "model.add(keras.layers.BatchNormalization())\n",
    "model.add(keras.layers.Activation(\"relu\"))\n",
    "model.add(keras.layers.Dropout(0.5))\n",
    "model.add(keras.layers.Dense(512))\n",
    "model.add(keras.layers.BatchNormalization())\n",
    "model.add(keras.layers.Activation(\"relu\"))\n",
    "model.add(keras.layers.Dropout(0.5))\n",
    "model.add(keras.layers.Dense(1))\n",
    "model.add(keras.layers.Activation(\"sigmoid\"))\n",
    "model.compile(loss = \"binary_crossentropy\", \n",
    "\toptimizer = keras.optimizers.adam(lr = 0.0003))"
   ]
  },
  {
   "cell_type": "code",
   "execution_count": null,
   "metadata": {},
   "outputs": [],
   "source": []
  }
 ],
 "metadata": {
  "kernelspec": {
   "display_name": "Python 3",
   "language": "python",
   "name": "python3"
  },
  "language_info": {
   "codemirror_mode": {
    "name": "ipython",
    "version": 3
   },
   "file_extension": ".py",
   "mimetype": "text/x-python",
   "name": "python",
   "nbconvert_exporter": "python",
   "pygments_lexer": "ipython3",
   "version": "3.6.6"
  }
 },
 "nbformat": 4,
 "nbformat_minor": 2
}
