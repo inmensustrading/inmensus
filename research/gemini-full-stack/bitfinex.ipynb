{
 "cells": [
  {
   "cell_type": "code",
   "execution_count": 31,
   "metadata": {},
   "outputs": [],
   "source": [
    "%matplotlib inline\n",
    "import matplotlib.pyplot as plt\n",
    "\n",
    "import pandas as pd\n",
    "import numpy as np"
   ]
  },
  {
   "cell_type": "code",
   "execution_count": 32,
   "metadata": {},
   "outputs": [
    {
     "name": "stdout",
     "output_type": "stream",
     "text": [
      "CPU times: user 15.2 s, sys: 1.06 s, total: 16.2 s\n",
      "Wall time: 16.3 s\n"
     ]
    }
   ],
   "source": [
    "%%time\n",
    "raw_df = pd.read_csv(\"data/bitstampUSD.csv\")"
   ]
  },
  {
   "cell_type": "code",
   "execution_count": 68,
   "metadata": {},
   "outputs": [],
   "source": [
    "df = raw_df[-5000000:].copy()\n",
    "df.time = pd.to_datetime(df.time, unit='s')\n",
    "df.drop_duplicates(subset='time', keep='last', inplace=True)\n",
    "df.set_index('time', inplace=True)"
   ]
  },
  {
   "cell_type": "code",
   "execution_count": 69,
   "metadata": {},
   "outputs": [
    {
     "data": {
      "text/plain": [
       "<matplotlib.axes._subplots.AxesSubplot at 0x130630518>"
      ]
     },
     "execution_count": 69,
     "metadata": {},
     "output_type": "execute_result"
    },
    {
     "data": {
      "image/png": "[encoded data removed]",
      "text/plain": [
       "<Figure size 432x288 with 1 Axes>"
      ]
     },
     "metadata": {},
     "output_type": "display_data"
    }
   ],
   "source": [
    "df.mid[-1000:].plot()"
   ]
  },
  {
   "cell_type": "code",
   "execution_count": 70,
   "metadata": {},
   "outputs": [
    {
     "data": {
      "text/html": [
       "<div>\n",
       "<style scoped>\n",
       "    .dataframe tbody tr th:only-of-type {\n",
       "        vertical-align: middle;\n",
       "    }\n",
       "\n",
       "    .dataframe tbody tr th {\n",
       "        vertical-align: top;\n",
       "    }\n",
       "\n",
       "    .dataframe thead th {\n",
       "        text-align: right;\n",
       "    }\n",
       "</style>\n",
       "<table border=\"1\" class=\"dataframe\">\n",
       "  <thead>\n",
       "    <tr style=\"text-align: right;\">\n",
       "      <th></th>\n",
       "      <th>mid</th>\n",
       "      <th>volume</th>\n",
       "    </tr>\n",
       "    <tr>\n",
       "      <th>time</th>\n",
       "      <th></th>\n",
       "      <th></th>\n",
       "    </tr>\n",
       "  </thead>\n",
       "  <tbody>\n",
       "    <tr>\n",
       "      <th>2018-07-19 22:08:54</th>\n",
       "      <td>7458.26</td>\n",
       "      <td>0.699867</td>\n",
       "    </tr>\n",
       "    <tr>\n",
       "      <th>2018-07-19 22:08:57</th>\n",
       "      <td>7456.69</td>\n",
       "      <td>0.049310</td>\n",
       "    </tr>\n",
       "    <tr>\n",
       "      <th>2018-07-19 22:08:59</th>\n",
       "      <td>7458.48</td>\n",
       "      <td>0.021554</td>\n",
       "    </tr>\n",
       "    <tr>\n",
       "      <th>2018-07-19 22:09:01</th>\n",
       "      <td>7453.53</td>\n",
       "      <td>0.993200</td>\n",
       "    </tr>\n",
       "    <tr>\n",
       "      <th>2018-07-19 22:09:02</th>\n",
       "      <td>7453.53</td>\n",
       "      <td>0.108416</td>\n",
       "    </tr>\n",
       "    <tr>\n",
       "      <th>2018-07-19 22:09:06</th>\n",
       "      <td>7453.54</td>\n",
       "      <td>0.073789</td>\n",
       "    </tr>\n",
       "    <tr>\n",
       "      <th>2018-07-19 22:09:10</th>\n",
       "      <td>7453.06</td>\n",
       "      <td>0.001100</td>\n",
       "    </tr>\n",
       "    <tr>\n",
       "      <th>2018-07-19 22:09:44</th>\n",
       "      <td>7448.74</td>\n",
       "      <td>0.248804</td>\n",
       "    </tr>\n",
       "    <tr>\n",
       "      <th>2018-07-19 22:09:49</th>\n",
       "      <td>7452.91</td>\n",
       "      <td>0.002417</td>\n",
       "    </tr>\n",
       "    <tr>\n",
       "      <th>2018-07-19 22:09:54</th>\n",
       "      <td>7453.03</td>\n",
       "      <td>0.073795</td>\n",
       "    </tr>\n",
       "    <tr>\n",
       "      <th>2018-07-19 22:09:55</th>\n",
       "      <td>7455.38</td>\n",
       "      <td>0.016328</td>\n",
       "    </tr>\n",
       "    <tr>\n",
       "      <th>2018-07-19 22:09:57</th>\n",
       "      <td>7455.99</td>\n",
       "      <td>0.000871</td>\n",
       "    </tr>\n",
       "    <tr>\n",
       "      <th>2018-07-19 22:09:59</th>\n",
       "      <td>7456.99</td>\n",
       "      <td>0.000872</td>\n",
       "    </tr>\n",
       "    <tr>\n",
       "      <th>2018-07-19 22:10:02</th>\n",
       "      <td>7457.58</td>\n",
       "      <td>0.004932</td>\n",
       "    </tr>\n",
       "    <tr>\n",
       "      <th>2018-07-19 22:10:04</th>\n",
       "      <td>7457.58</td>\n",
       "      <td>0.004932</td>\n",
       "    </tr>\n",
       "    <tr>\n",
       "      <th>2018-07-19 22:10:05</th>\n",
       "      <td>7457.58</td>\n",
       "      <td>0.004932</td>\n",
       "    </tr>\n",
       "    <tr>\n",
       "      <th>2018-07-19 22:10:07</th>\n",
       "      <td>7457.58</td>\n",
       "      <td>0.004932</td>\n",
       "    </tr>\n",
       "    <tr>\n",
       "      <th>2018-07-19 22:10:09</th>\n",
       "      <td>7457.58</td>\n",
       "      <td>0.004932</td>\n",
       "    </tr>\n",
       "    <tr>\n",
       "      <th>2018-07-19 22:10:10</th>\n",
       "      <td>7458.99</td>\n",
       "      <td>0.000871</td>\n",
       "    </tr>\n",
       "    <tr>\n",
       "      <th>2018-07-19 22:10:11</th>\n",
       "      <td>7459.15</td>\n",
       "      <td>0.004932</td>\n",
       "    </tr>\n",
       "  </tbody>\n",
       "</table>\n",
       "</div>"
      ],
      "text/plain": [
       "                         mid    volume\n",
       "time                                  \n",
       "2018-07-19 22:08:54  7458.26  0.699867\n",
       "2018-07-19 22:08:57  7456.69  0.049310\n",
       "2018-07-19 22:08:59  7458.48  0.021554\n",
       "2018-07-19 22:09:01  7453.53  0.993200\n",
       "2018-07-19 22:09:02  7453.53  0.108416\n",
       "2018-07-19 22:09:06  7453.54  0.073789\n",
       "2018-07-19 22:09:10  7453.06  0.001100\n",
       "2018-07-19 22:09:44  7448.74  0.248804\n",
       "2018-07-19 22:09:49  7452.91  0.002417\n",
       "2018-07-19 22:09:54  7453.03  0.073795\n",
       "2018-07-19 22:09:55  7455.38  0.016328\n",
       "2018-07-19 22:09:57  7455.99  0.000871\n",
       "2018-07-19 22:09:59  7456.99  0.000872\n",
       "2018-07-19 22:10:02  7457.58  0.004932\n",
       "2018-07-19 22:10:04  7457.58  0.004932\n",
       "2018-07-19 22:10:05  7457.58  0.004932\n",
       "2018-07-19 22:10:07  7457.58  0.004932\n",
       "2018-07-19 22:10:09  7457.58  0.004932\n",
       "2018-07-19 22:10:10  7458.99  0.000871\n",
       "2018-07-19 22:10:11  7459.15  0.004932"
      ]
     },
     "execution_count": 70,
     "metadata": {},
     "output_type": "execute_result"
    }
   ],
   "source": [
    "df[-20:]"
   ]
  },
  {
   "cell_type": "code",
   "execution_count": null,
   "metadata": {},
   "outputs": [],
   "source": []
  }
 ],
 "metadata": {
  "kernelspec": {
   "display_name": "Python 3",
   "language": "python",
   "name": "python3"
  },
  "language_info": {
   "codemirror_mode": {
    "name": "ipython",
    "version": 3
   },
   "file_extension": ".py",
   "mimetype": "text/x-python",
   "name": "python",
   "nbconvert_exporter": "python",
   "pygments_lexer": "ipython3",
   "version": "3.7.0"
  }
 },
 "nbformat": 4,
 "nbformat_minor": 2
}
