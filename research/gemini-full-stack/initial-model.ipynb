{
 "cells": [
  {
   "cell_type": "code",
   "execution_count": 1,
   "metadata": {},
   "outputs": [],
   "source": [
    "from datetime import datetime\n",
    "\n",
    "import numpy as np\n",
    "import pandas as pd\n",
    "import statsmodels.api as sm\n",
    "\n",
    "%matplotlib inline\n",
    "import matplotlib.pyplot as plt"
   ]
  },
  {
   "cell_type": "code",
   "execution_count": 2,
   "metadata": {},
   "outputs": [
    {
     "data": {
      "text/html": [
       "<div>\n",
       "<style scoped>\n",
       "    .dataframe tbody tr th:only-of-type {\n",
       "        vertical-align: middle;\n",
       "    }\n",
       "\n",
       "    .dataframe tbody tr th {\n",
       "        vertical-align: top;\n",
       "    }\n",
       "\n",
       "    .dataframe thead th {\n",
       "        text-align: right;\n",
       "    }\n",
       "</style>\n",
       "<table border=\"1\" class=\"dataframe\">\n",
       "  <thead>\n",
       "    <tr style=\"text-align: right;\">\n",
       "      <th></th>\n",
       "      <th>bid</th>\n",
       "      <th>ask</th>\n",
       "      <th>bid-volume</th>\n",
       "      <th>ask-volume</th>\n",
       "      <th>mid</th>\n",
       "      <th>oir</th>\n",
       "      <th>time</th>\n",
       "      <th>dmid</th>\n",
       "      <th>oi</th>\n",
       "    </tr>\n",
       "  </thead>\n",
       "  <tbody>\n",
       "    <tr>\n",
       "      <th>0</th>\n",
       "      <td>6689.01</td>\n",
       "      <td>6689.02</td>\n",
       "      <td>53.554381</td>\n",
       "      <td>6.487687</td>\n",
       "      <td>6689.015</td>\n",
       "      <td>0.783895</td>\n",
       "      <td>2018-06-19 00:42:54.055098</td>\n",
       "      <td>NaN</td>\n",
       "      <td>NaN</td>\n",
       "    </tr>\n",
       "    <tr>\n",
       "      <th>1</th>\n",
       "      <td>6689.01</td>\n",
       "      <td>6689.02</td>\n",
       "      <td>53.554381</td>\n",
       "      <td>6.487687</td>\n",
       "      <td>6689.015</td>\n",
       "      <td>0.783895</td>\n",
       "      <td>2018-06-19 00:42:54.555490</td>\n",
       "      <td>0.0</td>\n",
       "      <td>0.000</td>\n",
       "    </tr>\n",
       "    <tr>\n",
       "      <th>2</th>\n",
       "      <td>6689.01</td>\n",
       "      <td>6689.02</td>\n",
       "      <td>53.554381</td>\n",
       "      <td>6.488687</td>\n",
       "      <td>6689.015</td>\n",
       "      <td>0.783866</td>\n",
       "      <td>2018-06-19 00:42:55.055927</td>\n",
       "      <td>0.0</td>\n",
       "      <td>-0.001</td>\n",
       "    </tr>\n",
       "  </tbody>\n",
       "</table>\n",
       "</div>"
      ],
      "text/plain": [
       "       bid      ask  bid-volume  ask-volume       mid       oir  \\\n",
       "0  6689.01  6689.02   53.554381    6.487687  6689.015  0.783895   \n",
       "1  6689.01  6689.02   53.554381    6.487687  6689.015  0.783895   \n",
       "2  6689.01  6689.02   53.554381    6.488687  6689.015  0.783866   \n",
       "\n",
       "                        time  dmid     oi  \n",
       "0 2018-06-19 00:42:54.055098   NaN    NaN  \n",
       "1 2018-06-19 00:42:54.555490   0.0  0.000  \n",
       "2 2018-06-19 00:42:55.055927   0.0 -0.001  "
      ]
     },
     "execution_count": 2,
     "metadata": {},
     "output_type": "execute_result"
    }
   ],
   "source": [
    "df = pd.read_pickle('data/dfs/06-19.pkl')\n",
    "df[0:3]"
   ]
  },
  {
   "cell_type": "code",
   "execution_count": 23,
   "metadata": {},
   "outputs": [
    {
     "data": {
      "text/plain": [
       "[<matplotlib.lines.Line2D at 0x10da19898>]"
      ]
     },
     "execution_count": 23,
     "metadata": {},
     "output_type": "execute_result"
    },
    {
     "data": {
      "image/png": "[encoded data removed]",
      "text/plain": [
       "<Figure size 432x288 with 1 Axes>"
      ]
     },
     "metadata": {},
     "output_type": "display_data"
    }
   ],
   "source": [
    "ROLL_MEAN_WINDOW_SIZE = 20\n",
    "df['roll-mid'] = df['mid'].rolling(ROLL_MEAN_WINDOW_SIZE).mean()\n",
    "plt.plot_date(df['time'], df['mid'], fmt='-')\n",
    "plt.plot_date(df['time'], df['roll-mid'], fmt='-')"
   ]
  },
  {
   "cell_type": "code",
   "execution_count": 54,
   "metadata": {},
   "outputs": [
    {
     "data": {
      "text/plain": [
       "0    0.0\n",
       "1    0.0\n",
       "dtype: float64"
      ]
     },
     "execution_count": 54,
     "metadata": {},
     "output_type": "execute_result"
    }
   ],
   "source": [
    "y = df['roll-mid'].shift(-ROLL_MEAN_WINDOW_SIZE) - df['mid']\n",
    "y = y.round(decimals=8) # make things close to zero (floating point error) actually zero\n",
    "y[0:2]"
   ]
  },
  {
   "cell_type": "code",
   "execution_count": 55,
   "metadata": {},
   "outputs": [],
   "source": [
    "OI_FEATURES = 5 # how many timesteps back do we use OI\n",
    "X = np.zeros((df.shape[0], OI_FEATURES))\n",
    "for i in range(OI_FEATURES):\n",
    "    X[:, i] = df['oi'].shift(i).values"
   ]
  },
  {
   "cell_type": "code",
   "execution_count": 57,
   "metadata": {},
   "outputs": [
    {
     "name": "stdout",
     "output_type": "stream",
     "text": [
      "                            OLS Regression Results                            \n",
      "==============================================================================\n",
      "Dep. Variable:                      y   R-squared:                       0.022\n",
      "Model:                            OLS   Adj. R-squared:                  0.022\n",
      "Method:                 Least Squares   F-statistic:                     179.2\n",
      "Date:                Sun, 24 Jun 2018   Prob (F-statistic):          2.84e-189\n",
      "Time:                        16:37:38   Log-Likelihood:                -51006.\n",
      "No. Observations:               39975   AIC:                         1.020e+05\n",
      "Df Residuals:                   39969   BIC:                         1.021e+05\n",
      "Df Model:                           5                                         \n",
      "Covariance Type:            nonrobust                                         \n",
      "==============================================================================\n",
      "                 coef    std err          t      P>|t|      [0.025      0.975]\n",
      "------------------------------------------------------------------------------\n",
      "const          0.0364      0.004      8.398      0.000       0.028       0.045\n",
      "x1             0.0084      0.000     18.175      0.000       0.008       0.009\n",
      "x2             0.0051      0.000     10.968      0.000       0.004       0.006\n",
      "x3             0.0036      0.000      7.575      0.000       0.003       0.004\n",
      "x4             0.0027      0.000      5.798      0.000       0.002       0.004\n",
      "x5             0.0033      0.000      7.024      0.000       0.002       0.004\n",
      "==============================================================================\n",
      "Omnibus:                    37643.663   Durbin-Watson:                   0.138\n",
      "Prob(Omnibus):                  0.000   Jarque-Bera (JB):         10328818.503\n",
      "Skew:                           3.900   Prob(JB):                         0.00\n",
      "Kurtosis:                      81.360   Cond. No.                         12.0\n",
      "==============================================================================\n",
      "\n",
      "Warnings:\n",
      "[1] Standard Errors assume that the covariance matrix of the errors is correctly specified.\n"
     ]
    }
   ],
   "source": [
    "model = sm.OLS(y, sm.add_constant(X), missing = 'drop')\n",
    "results = model.fit()\n",
    "print(results.summary())"
   ]
  },
  {
   "cell_type": "code",
   "execution_count": 48,
   "metadata": {},
   "outputs": [
    {
     "data": {
      "text/plain": [
       "array([[0., 0., 0., 0., 0.],\n",
       "       [0., 0., 0., 0., 0.]])"
      ]
     },
     "execution_count": 48,
     "metadata": {},
     "output_type": "execute_result"
    }
   ],
   "source": [
    "np.zeros((2,5))"
   ]
  },
  {
   "cell_type": "code",
   "execution_count": null,
   "metadata": {},
   "outputs": [],
   "source": []
  }
 ],
 "metadata": {
  "kernelspec": {
   "display_name": "Python 3",
   "language": "python",
   "name": "python3"
  },
  "language_info": {
   "codemirror_mode": {
    "name": "ipython",
    "version": 3
   },
   "file_extension": ".py",
   "mimetype": "text/x-python",
   "name": "python",
   "nbconvert_exporter": "python",
   "pygments_lexer": "ipython3",
   "version": "3.6.5"
  }
 },
 "nbformat": 4,
 "nbformat_minor": 2
}
