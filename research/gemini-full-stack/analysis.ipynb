{
 "cells": [
  {
   "cell_type": "code",
   "execution_count": 1,
   "metadata": {},
   "outputs": [],
   "source": [
    "import os\n",
    "\n",
    "def toRelPath(origPath):\n",
    "    \"\"\"Converts path to path relative to current script\n",
    "\n",
    "    origPath:\tpath to convert\n",
    "    \"\"\"\n",
    "    try:\n",
    "        if not hasattr(toRelPath, \"__location__\"):\n",
    "            toRelPath.__location__ = os.path.realpath(os.path.join(os.getcwd(), os.path.dirname(__file__)))\n",
    "        return os.path.join(toRelPath.__location__, origPath)\n",
    "    except NameError:\n",
    "        return origPath\n",
    "\n",
    "####end of library"
   ]
  },
  {
   "cell_type": "code",
   "execution_count": 57,
   "metadata": {},
   "outputs": [],
   "source": [
    "import json\n",
    "import datetime\n",
    "import matplotlib.pyplot as plt\n",
    "\n",
    "PRICE_POINT_EPS = 1e-8\n",
    "PRICE_MAX = 1000000"
   ]
  },
  {
   "cell_type": "code",
   "execution_count": 58,
   "metadata": {},
   "outputs": [],
   "source": [
    "with open(toRelPath(\"assets\\\\fetch-mysql.json\")) as file:    \n",
    "    events = json.load(file)\n",
    "    \n",
    "tradeTimes = []\n",
    "tradePrc = []\n",
    "for event in events:\n",
    "    if event[4] == \"trade\":\n",
    "        tradeTimes.append(datetime.datetime.fromtimestamp(event[0]//1000))\n",
    "        tradePrc.append(event[2])"
   ]
  },
  {
   "cell_type": "code",
   "execution_count": 59,
   "metadata": {},
   "outputs": [
    {
     "data": {
      "text/plain": [
       "[<matplotlib.lines.Line2D at 0x15ab44131d0>]"
      ]
     },
     "execution_count": 59,
     "metadata": {},
     "output_type": "execute_result"
    },
    {
     "data": {
      "image/png": "[encoded data removed]",
      "text/plain": [
       "<Figure size 432x288 with 1 Axes>"
      ]
     },
     "metadata": {},
     "output_type": "display_data"
    }
   ],
   "source": [
    "#should match with https://cryptowat.ch/markets/gemini/btc/usd\n",
    "plt.plot(tradeTimes, tradePrc)"
   ]
  },
  {
   "cell_type": "code",
   "execution_count": 60,
   "metadata": {},
   "outputs": [
    {
     "ename": "TypeError",
     "evalue": "can only concatenate list (not \"int\") to list",
     "output_type": "error",
     "traceback": [
      "\u001b[1;31m---------------------------------------------------------------------------\u001b[0m",
      "\u001b[1;31mTypeError\u001b[0m                                 Traceback (most recent call last)",
      "\u001b[1;32m<ipython-input-60-9862658dfeb5>\u001b[0m in \u001b[0;36m<module>\u001b[1;34m()\u001b[0m\n\u001b[0;32m      6\u001b[0m \u001b[1;31m#assume price points are in cent granularity\u001b[0m\u001b[1;33m\u001b[0m\u001b[1;33m\u001b[0m\u001b[0m\n\u001b[0;32m      7\u001b[0m \u001b[1;31m#bid, ask\u001b[0m\u001b[1;33m\u001b[0m\u001b[1;33m\u001b[0m\u001b[0m\n\u001b[1;32m----> 8\u001b[1;33m \u001b[0mcurOB\u001b[0m \u001b[1;33m=\u001b[0m \u001b[1;33m[\u001b[0m\u001b[1;33m[\u001b[0m\u001b[1;36m0\u001b[0m\u001b[1;33m]\u001b[0m \u001b[1;33m*\u001b[0m \u001b[1;36m100\u001b[0m \u001b[1;33m*\u001b[0m \u001b[0mPRICE_MAX\u001b[0m \u001b[1;33m+\u001b[0m \u001b[1;36m1\u001b[0m\u001b[1;33m,\u001b[0m \u001b[1;33m[\u001b[0m\u001b[1;36m0\u001b[0m\u001b[1;33m]\u001b[0m \u001b[1;33m*\u001b[0m \u001b[1;36m100\u001b[0m \u001b[1;33m*\u001b[0m \u001b[0mPRICE_MAX\u001b[0m \u001b[1;33m+\u001b[0m \u001b[1;36m1\u001b[0m\u001b[1;33m]\u001b[0m\u001b[1;33m\u001b[0m\u001b[0m\n\u001b[0m\u001b[0;32m      9\u001b[0m \u001b[1;33m\u001b[0m\u001b[0m\n\u001b[0;32m     10\u001b[0m \u001b[0mmaxPrice\u001b[0m \u001b[1;33m=\u001b[0m \u001b[1;36m0\u001b[0m\u001b[1;33m\u001b[0m\u001b[0m\n",
      "\u001b[1;31mTypeError\u001b[0m: can only concatenate list (not \"int\") to list"
     ]
    }
   ],
   "source": [
    "eventTimes = []\n",
    "\n",
    "#bid, center, ask\n",
    "eventPrc = []\n",
    "\n",
    "#assume price points are in cent granularity\n",
    "#bid, ask\n",
    "curOB = [[0] * (100 * PRICE_MAX + 1), [0] * (100 * PRICE_MAX + 1)]\n",
    "\n",
    "maxPrice = 0\n",
    "maxBid = 0\n",
    "minAsk = PRICE_MAX\n",
    "\n",
    "for event in events:\n",
    "    if event[2] * 100 - round(event[2] * 100) >= PRICE_POINT_EPS:\n",
    "        print(\"Price point diff:\", event[2], event[2] * 100 - round(event[2] * 100))\n",
    "        continue\n",
    "    if event[2] > maxPrice:\n",
    "        maxPrice = event[2]\n",
    "\n",
    "    pp = round(event[2] * 100)\n",
    "    ind = 0\n",
    "    if event[1] == \"ask\":\n",
    "        ind = 1\n",
    "    else:\n",
    "        pass\n",
    "    curOB[ind][pp] = event[3]\n",
    "    \n",
    "    eventTimes.append(datetime.datetime.fromtimestamp(event[0]//1000))\n",
    "    eventPrc.append([0, 0, 0])\n",
    "    \n",
    "print(\"Max price:\", maxPrice)"
   ]
  },
  {
   "cell_type": "code",
   "execution_count": null,
   "metadata": {},
   "outputs": [],
   "source": []
  },
  {
   "cell_type": "code",
   "execution_count": null,
   "metadata": {},
   "outputs": [],
   "source": []
  }
 ],
 "metadata": {
  "kernelspec": {
   "display_name": "Python 3",
   "language": "python",
   "name": "python3"
  },
  "language_info": {
   "codemirror_mode": {
    "name": "ipython",
    "version": 3
   },
   "file_extension": ".py",
   "mimetype": "text/x-python",
   "name": "python",
   "nbconvert_exporter": "python",
   "pygments_lexer": "ipython3",
   "version": "3.6.5"
  }
 },
 "nbformat": 4,
 "nbformat_minor": 2
}
