{
 "cells": [
  {
   "cell_type": "code",
   "execution_count": 1,
   "metadata": {},
   "outputs": [],
   "source": [
    "import os\n",
    "\n",
    "def toRelPath(origPath):\n",
    "    \"\"\"Converts path to path relative to current script\n",
    "\n",
    "    origPath:\tpath to convert\n",
    "    \"\"\"\n",
    "    try:\n",
    "        if not hasattr(toRelPath, \"__location__\"):\n",
    "            toRelPath.__location__ = os.path.realpath(os.path.join(os.getcwd(), os.path.dirname(__file__)))\n",
    "        return os.path.join(toRelPath.__location__, origPath)\n",
    "    except NameError:\n",
    "        return origPath\n",
    "\n",
    "####end of library"
   ]
  },
  {
   "cell_type": "code",
   "execution_count": 2,
   "metadata": {},
   "outputs": [],
   "source": [
    "import json\n",
    "import datetime\n",
    "import matplotlib.pyplot as plt\n",
    "import numpy as np\n",
    "import pandas as pd\n",
    "import statsmodels.api as sm\n",
    "\n",
    "PRICE_POINT_EPS = 1e-8\n",
    "PRICE_MAX = 1000000"
   ]
  },
  {
   "cell_type": "code",
   "execution_count": 36,
   "metadata": {},
   "outputs": [
    {
     "name": "stdout",
     "output_type": "stream",
     "text": [
      "[5000, 1531796919659, 0, 6723.71, 0.1, 2]\n",
      "Events: 10544\n"
     ]
    }
   ],
   "source": [
    "events = json.load(open(toRelPath(\"db.json\")))\n",
    "events.sort(key=lambda x: x[0])\n",
    "print(events[5000])\n",
    "print(\"Events:\", len(events))\n",
    "\n",
    "#stats to watch while walking through time\n",
    "eventSeries = {\n",
    "    \"time\": [],\n",
    "    \"low\": [],\n",
    "    \"high\": [],\n",
    "    \"last-trade\": []\n",
    "}"
   ]
  },
  {
   "cell_type": "code",
   "execution_count": 37,
   "metadata": {},
   "outputs": [
    {
     "name": "stdout",
     "output_type": "stream",
     "text": [
      "1000000.0\n"
     ]
    }
   ],
   "source": [
    "for event in events:\n",
    "    #check for prince point granularity\n",
    "    maxPrice = max(event[3], maxPrice)\n",
    "print(maxPrice)"
   ]
  },
  {
   "cell_type": "code",
   "execution_count": 38,
   "metadata": {},
   "outputs": [],
   "source": [
    "#assume price points are in cent granularity\n",
    "#bid, ask\n",
    "curOB = [[0.0] * (100 * PRICE_MAX + 1), [0.0] * (100 * PRICE_MAX + 1)]\n",
    "\n",
    "maxBid = 0\n",
    "minAsk = PRICE_MAX * 100\n",
    "lastTradePrc = 0\n",
    "\n",
    "for event in events:\n",
    "    #special events are identified by the reason\n",
    "    if event[5] == 0 or event[5] == 1:\n",
    "        continue\n",
    "    \n",
    "    #check for prince point granularity\n",
    "    pp = round(event[3] * 100)\n",
    "    if event[3] * 100 - pp >= PRICE_POINT_EPS:\n",
    "        print(\"Price point diff:\", event[3], event[3] * 100 - pp)\n",
    "        continue\n",
    "\n",
    "    #update orderbook min/max\n",
    "    ind = 0\n",
    "    if event[2] == 1: #ask\n",
    "        ind = 1\n",
    "        if event[4] > 0:\n",
    "            minAsk = min(minAsk, pp)\n",
    "        else:\n",
    "            for minAsk in range(minAsk + 1, PRICE_MAX + 1):\n",
    "                if curOB[1][minAsk] > 0:\n",
    "                    break\n",
    "    else: #bid\n",
    "        if event[4] > 0:\n",
    "            maxBid = max(maxBid, pp)\n",
    "        else:\n",
    "            for maxBid in range(minAsk + 1, -1, -1):\n",
    "                if curOB[0][maxBid] > 0:\n",
    "                    break\n",
    "                    \n",
    "    #update ob\n",
    "    curOB[ind][pp] = event[4]\n",
    "    \n",
    "    #calculate price of last trade\n",
    "    if event[5] == 3: #trade event\n",
    "        lastTradePrc = event[3]\n",
    "    \n",
    "    if maxBid == 0 or minAsk == PRICE_MAX * 100 or lastTradePrc == 0:\n",
    "        continue\n",
    "        \n",
    "    #orderbook is ready at this point\n",
    "    \n",
    "    #calculate some stats\n",
    "    eventSeries[\"time\"].append(datetime.datetime.fromtimestamp(event[1]//1000))\n",
    "    eventSeries[\"low\"].append(maxBid / 100)\n",
    "    eventSeries[\"high\"].append(minAsk / 100)\n",
    "    eventSeries[\"last-trade\"].append(lastTradePrc)"
   ]
  },
  {
   "cell_type": "code",
   "execution_count": 39,
   "metadata": {},
   "outputs": [
    {
     "name": "stdout",
     "output_type": "stream",
     "text": [
      "Max price: 1000000.0\n",
      "Events:  6214\n",
      "Estimated memory for 1 series:  0.049712000000000006 MB\n"
     ]
    }
   ],
   "source": [
    "#free some memory\n",
    "del events\n",
    "del curOB\n",
    "\n",
    "cEvents = len(eventSeries[\"time\"])\n",
    "\n",
    "print(\"Max price:\", maxPrice)\n",
    "print(\"Events: \", cEvents)\n",
    "print(\"Estimated memory for 1 series: \", cEvents * (8) / 1000 / 1000, \"MB\")"
   ]
  },
  {
   "cell_type": "code",
   "execution_count": 40,
   "metadata": {},
   "outputs": [
    {
     "data": {
      "text/plain": [
       "[<matplotlib.lines.Line2D at 0x23f8b9510f0>]"
      ]
     },
     "execution_count": 40,
     "metadata": {},
     "output_type": "execute_result"
    },
    {
     "data": {
      "image/png": "[encoded data removed]",
      "text/plain": [
       "<Figure size 432x288 with 1 Axes>"
      ]
     },
     "metadata": {},
     "output_type": "display_data"
    }
   ],
   "source": [
    "eventSeries[\"mid\"] = []\n",
    "for a in range(len(eventSeries[\"time\"])):\n",
    "    eventSeries[\"mid\"].append((eventSeries[\"low\"][a] + eventSeries[\"high\"][a]) / 2)\n",
    "plt.plot(eventSeries[\"time\"], eventSeries[\"mid\"])\n",
    "plt.plot(eventSeries[\"time\"], eventSeries[\"last-trade\"])"
   ]
  },
  {
   "cell_type": "code",
   "execution_count": 41,
   "metadata": {},
   "outputs": [
    {
     "data": {
      "text/plain": [
       "[<matplotlib.lines.Line2D at 0x23f8b923c18>]"
      ]
     },
     "execution_count": 41,
     "metadata": {},
     "output_type": "execute_result"
    },
    {
     "data": {
      "image/png": "[encoded data removed]",
      "text/plain": [
       "<Figure size 432x288 with 1 Axes>"
      ]
     },
     "metadata": {},
     "output_type": "display_data"
    }
   ],
   "source": [
    "plt.plot(eventSeries[\"time\"], eventSeries[\"low\"])\n",
    "plt.plot(eventSeries[\"time\"], eventSeries[\"high\"])"
   ]
  },
  {
   "cell_type": "code",
   "execution_count": 42,
   "metadata": {},
   "outputs": [
    {
     "data": {
      "text/plain": [
       "[<matplotlib.lines.Line2D at 0x23f8bde1eb8>]"
      ]
     },
     "execution_count": 42,
     "metadata": {},
     "output_type": "execute_result"
    },
    {
     "data": {
      "image/png": "[encoded data removed]",
      "text/plain": [
       "<Figure size 432x288 with 1 Axes>"
      ]
     },
     "metadata": {},
     "output_type": "display_data"
    }
   ],
   "source": [
    "eventSeries[\"dmid\"] = [0]\n",
    "for a in range(1, len(eventSeries[\"time\"])):\n",
    "    eventSeries[\"dmid\"].append(eventSeries[\"mid\"][a] - eventSeries[\"mid\"][a - 1])\n",
    "plt.plot(eventSeries[\"time\"], eventSeries[\"dmid\"])"
   ]
  },
  {
   "cell_type": "code",
   "execution_count": null,
   "metadata": {},
   "outputs": [],
   "source": []
  }
 ],
 "metadata": {
  "kernelspec": {
   "display_name": "Python 3",
   "language": "python",
   "name": "python3"
  },
  "language_info": {
   "codemirror_mode": {
    "name": "ipython",
    "version": 3
   },
   "file_extension": ".py",
   "mimetype": "text/x-python",
   "name": "python",
   "nbconvert_exporter": "python",
   "pygments_lexer": "ipython3",
   "version": "3.6.6"
  }
 },
 "nbformat": 4,
 "nbformat_minor": 2
}
