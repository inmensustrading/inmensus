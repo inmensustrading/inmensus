{
 "cells": [
  {
   "cell_type": "code",
   "execution_count": 1,
   "metadata": {},
   "outputs": [],
   "source": [
    "from datetime import datetime\n",
    "import time\n",
    "\n",
    "import gdax\n",
    "import numpy as np\n",
    "import pandas as pd\n",
    "\n",
    "%matplotlib inline\n",
    "import matplotlib.pyplot as plt"
   ]
  },
  {
   "cell_type": "code",
   "execution_count": 2,
   "metadata": {},
   "outputs": [],
   "source": [
    "NUM_LEVELS = 256\n",
    "SZ = int(2e5)\n",
    "INITIAL_WAIT = 10\n",
    "TIME_STEP = 0.5\n",
    "C_CHECKPOINTS = 100"
   ]
  },
  {
   "cell_type": "code",
   "execution_count": 3,
   "metadata": {},
   "outputs": [],
   "source": [
    "class OrderBookInmensus(gdax.OrderBook):\n",
    "    def __init__(self, product_id='BTC-USD', log_to=None):\n",
    "        super(OrderBookInmensus, self).__init__(product_id=product_id)\n",
    "        \n",
    "    def on_open(self):\n",
    "        self._sequence = -1\n",
    "        print(\"-- Subscribed to OrderBook(Inmensus)! --\\n\")\n",
    "        \n",
    "    def on_error(self, e, data=None):\n",
    "        self.error = e\n",
    "        self.stop = True\n",
    "        print('Error: {} - data: {}'.format(e, data))\n",
    "        "
   ]
  },
  {
   "cell_type": "code",
   "execution_count": 4,
   "metadata": {},
   "outputs": [],
   "source": [
    "order_book = OrderBookInmensus(product_id='BTC-USD')"
   ]
  },
  {
   "cell_type": "code",
   "execution_count": 5,
   "metadata": {},
   "outputs": [
    {
     "name": "stdout",
     "output_type": "stream",
     "text": [
      "-- Subscribed to OrderBook(Inmensus)! --\n",
      "\n",
      "\n",
      "-- OrderBook Socket Closed! --\n"
     ]
    }
   ],
   "source": [
    "order_book.start()\n",
    "time.sleep(INITIAL_WAIT)\n",
    "order_book.close()"
   ]
  },
  {
   "cell_type": "code",
   "execution_count": 6,
   "metadata": {},
   "outputs": [
    {
     "data": {
      "text/plain": [
       "[Decimal('6099.57000000'),\n",
       " Decimal('0.00127000'),\n",
       " '7becd8d7-a95e-4159-b5d5-7aca0b3841b3']"
      ]
     },
     "execution_count": 6,
     "metadata": {},
     "output_type": "execute_result"
    }
   ],
   "source": [
    "order_book.get_current_book()['bids'][-1]"
   ]
  },
  {
   "cell_type": "code",
   "execution_count": 7,
   "metadata": {},
   "outputs": [
    {
     "name": "stdout",
     "output_type": "stream",
     "text": [
      "Wall time: 136 ms\n"
     ]
    },
    {
     "data": {
      "image/png": "[encoded data removed]",
      "text/plain": [
       "<Figure size 432x288 with 1 Axes>"
      ]
     },
     "metadata": {},
     "output_type": "display_data"
    }
   ],
   "source": [
    "%%time\n",
    "def aggregate(orders, is_bid):\n",
    "    dfreq = {}\n",
    "    for dp, dv, _ in orders:\n",
    "        sp = str(dp)\n",
    "        v = np.float(dv)\n",
    "        if sp in dfreq:\n",
    "            dfreq[sp] += v\n",
    "        else:\n",
    "            dfreq[sp] = v\n",
    "    \n",
    "    lfreq = list(dfreq.items())\n",
    "    lfreq = [(np.float(p), v) for p, v in lfreq]\n",
    "    lfreq.sort()\n",
    "    \n",
    "    if is_bid:\n",
    "        return np.asarray(lfreq[-NUM_LEVELS:])\n",
    "    else:\n",
    "        return np.asarray(lfreq[:NUM_LEVELS])\n",
    "\n",
    "def get_vols(order_book):\n",
    "    cur_book = order_book.get_current_book()\n",
    "    bid_vols = aggregate(cur_book['bids'], True)\n",
    "    ask_vols = aggregate(cur_book['asks'], False)\n",
    "    return bid_vols, ask_vols\n",
    "\n",
    "bv, av = get_vols(order_book)\n",
    "plt.plot(bv[:, 0], bv[:, 1].sum() - bv[:, 1].cumsum())\n",
    "plt.plot(av[:, 0], av[:, 1].cumsum())"
   ]
  },
  {
   "cell_type": "code",
   "execution_count": 8,
   "metadata": {},
   "outputs": [
    {
     "name": "stdout",
     "output_type": "stream",
     "text": [
      "Will last 27.77777777777778 hours\n"
     ]
    }
   ],
   "source": [
    "bid_record = np.zeros((SZ, NUM_LEVELS, 2))\n",
    "ask_record = np.zeros((SZ, NUM_LEVELS, 2))\n",
    "time_record = np.zeros(SZ)\n",
    "print(\"Will last\", SZ / 60.0 / 60 / 2, \"hours\")"
   ]
  },
  {
   "cell_type": "code",
   "execution_count": 9,
   "metadata": {},
   "outputs": [],
   "source": [
    "def record_order_book(idx, order_book, t):\n",
    "    bv, av = get_vols(order_book)\n",
    "    bid_record[idx] = bv\n",
    "    ask_record[idx] = av\n",
    "    time_record[idx] = t"
   ]
  },
  {
   "cell_type": "code",
   "execution_count": 10,
   "metadata": {},
   "outputs": [
    {
     "name": "stdout",
     "output_type": "stream",
     "text": [
      "Wall time: 119 ms\n"
     ]
    }
   ],
   "source": [
    "%%time\n",
    "record_order_book(0, order_book, time.time())"
   ]
  },
  {
   "cell_type": "code",
   "execution_count": 11,
   "metadata": {
    "scrolled": false
   },
   "outputs": [
    {
     "name": "stdout",
     "output_type": "stream",
     "text": [
      "-- Subscribed to OrderBook(Inmensus)! --\n",
      "\n",
      "Doing initial sleep...\n",
      "Collecting data...\n",
      "Recording order_book every 0.5 seconds for 100000.0 seconds\n",
      " [6098.82 6098.99 6099.02 6099.03 6099.57] [6126.79 6126.99 6127.12 6127.17 6127.19] 0.11095499992370605\n",
      " [6107.03 6107.04 6107.12 6107.31 6107.33] [6128.58 6128.59 6128.6  6128.66 6128.67] 0.09307241439819336\n",
      " [6107.88 6108.   6108.5  6108.55 6108.69] [6128.83 6128.88 6128.9  6128.93 6129.17] 0.09303927421569824Error: Connection is already closed. - data: None\n",
      "\n",
      "-- OrderBook Socket Closed! --\n",
      " [6107.88 6108.   6108.5  6108.55 6108.69] [6128.83 6128.88 6128.9  6128.93 6129.17] 0.1086580753326416Orderbook is stopped, restarting...\n",
      "-- Subscribed to OrderBook(Inmensus)! --\n",
      "\n",
      "Doing initial sleep...\n",
      "Collecting data...\n",
      " [6107.74 6107.84 6107.88 6108.   6108.95] [6128.39 6128.4  6128.45 6128.46 6128.58] 0.09306383132934576\n",
      " [6100.   6102.   6106.29 6107.   6107.07] [6129.17 6129.19 6129.2  6129.28 6129.33] 0.09309530258178711\n",
      " [6104.04 6104.55 6106.64 6106.69 6106.7 ] [6127.79 6127.83 6127.93 6128.17 6128.19] 0.09303784370422363\n",
      " [6099.93 6100.   6100.43 6100.7  6100.74] [6109.59 6109.64 6109.7  6109.72 6109.73] 0.09307527542114258\n",
      " [6097.4  6097.93 6098.   6098.2  6098.26] [6109.73 6109.75 6109.77 6109.8  6109.81] 0.09323573112487793\n",
      " [6090.9  6091.   6091.99 6093.93 6094.99] [6108.51 6108.55 6108.58 6108.59 6108.7 ] 0.09324193000793457\n",
      " [6097.5  6098.26 6099.11 6099.78 6099.99] [6109.73 6109.75 6109.77 6109.8  6109.81] 0.12431859970092773\n",
      " [6107.   6109.38 6110.   6110.05 6110.1 ] [6128.9  6128.93 6129.17 6129.19 6129.2 ] 0.10887789726257324\n",
      " [6117.8  6118.19 6119.31 6119.99 6121.  ] [6131.   6131.01 6131.02 6131.1  6131.11] 0.09306383132934578\n",
      " [6118.42 6118.71 6118.99 6119.09 6119.47] [6135.59 6135.66 6135.75 6135.8  6135.83] 0.12427687644958496\n",
      " [6111.92 6111.99 6112.12 6112.16 6112.21] [6136.8  6136.83 6136.9  6136.93 6136.94] 0.10872912406921387\n",
      " [6106.38 6107.5  6107.73 6107.93 6109.33] [6135.49 6135.52 6135.59 6135.66 6135.75] 0.09306955337524414\n",
      " [6100.34 6101.   6101.64 6102.4  6103.09] [6134.96 6134.97 6134.99 6135.   6135.  ] 0.12431049346923828\n",
      " [6091.72 6091.82 6091.87 6091.9  6091.92] [6131.02 6131.1  6131.11 6131.46 6131.59] 0.09303045272827148\n",
      " [6097.   6097.26 6097.28 6097.52 6097.54] [6131.8  6131.82 6131.83 6131.9  6131.93] 0.10865783691406253\n",
      " [6097.   6097.26 6097.39 6097.54 6098.02] [6130.8  6130.83 6130.93 6131.   6131.01] 0.10877799987792969\n",
      " [6083.42 6084.   6084.23 6085.89 6085.9 ] [6127.66 6127.73 6127.77 6127.83 6128.  ] 0.12466049194335938\n",
      " [6084.9  6085.   6085.49 6085.89 6086.15] [6115.08 6116.01 6116.42 6116.58 6117.2 ] 0.13991856575012207\n",
      " [6097.42 6098.   6098.01 6098.02 6098.36] [6152.35 6152.88 6153.76 6154.   6154.98] 0.10868620872497559\n",
      " [6098.02 6098.3  6098.35 6098.36 6098.45] [6134.97 6134.99 6135.   6135.   6135.47] 0.10865974426269531\n",
      " [6105.38 6108.47 6108.51 6109.36 6112.14] [6176.32 6176.89 6177.   6177.08 6177.28] 0.10894584655761719\n",
      " [6104.33 6104.99 6105.   6105.03 6105.24] [6166.13 6166.27 6166.65 6167.72 6167.89] 0.09864473342895508\n",
      " [6116.01 6116.99 6118.11 6118.98 6118.99] [6184.71 6184.98 6184.99 6185.   6185.06] 0.12889099121093754\n",
      " [6110.41 6110.52 6110.53 6110.54 6111.41] [6149.32 6149.98 6150.   6150.   6150.01] 0.10868334770202637\n",
      " [6104.   6104.33 6105.   6105.33 6105.48] [6136.   6136.35 6136.73 6136.94 6137.21] 0.10912609100341797\n",
      " [6095.27 6095.53 6095.92 6096.   6096.09] [6135.   6135.   6135.47 6135.52 6135.86] 0.13247656822204591\n",
      " [6096.09 6096.66 6097.   6097.02 6097.28] [6137.5  6137.98 6138.   6138.83 6138.89] 0.12431597709655762\n",
      " [6100.34 6100.54 6100.58 6101.81 6101.94] [6137.5  6137.98 6138.   6138.83 6139.01] 0.14063286781311035\n",
      " [6101.25 6102.01 6103.   6103.43 6103.46] [6169.   6169.   6169.31 6169.98 6169.99] 0.10872673988342285\n",
      " [6108.   6108.67 6108.97 6108.98 6108.99] [6150.38 6150.74 6151.38 6152.   6152.01] 0.16655445098876953\n",
      " [6101.98 6102.   6102.05 6102.62 6102.98] [6163.54 6164.81 6164.98 6164.98 6165.  ] 0.13863348960876465\n",
      " [6108.01 6108.27 6109.03 6109.82 6109.98] [6156.36 6156.36 6157.77 6158.   6158.  ] 0.21041107177734375\n",
      " [6099.3  6099.99 6100.   6100.49 6100.5 ] [6149.98 6150.   6150.   6150.01 6150.05] 0.21795248985290527\n",
      " [6098.64 6098.8  6099.32 6099.99 6100.  ] [6139.98 6139.98 6139.99 6140.   6140.22] 0.22446131706237793\n",
      " [6104.97 6104.98 6104.99 6105.5  6105.73] [6128.59 6128.87 6128.88 6129.   6129.01] 0.23136472702026367\n",
      " [6093.25 6093.28 6093.64 6094.11 6095.2 ] [6116.09 6116.13 6116.38 6116.48 6116.55] 0.23066782951354982\n",
      " [6098.68 6098.73 6098.99 6099.98 6099.99] [6113.1  6113.11 6113.12 6113.13 6113.2 ] 0.19155192375183105\n",
      " [6096.59 6097.56 6098.32 6098.37 6098.66] [6151.38 6152.   6152.01 6152.31 6152.35] 0.21443033218383793\n",
      " [6094.61 6094.76 6094.8  6094.83 6095.  ] [6137.77 6137.98 6138.   6138.33 6139.01] 0.21408462524414062\n",
      " [6095.   6095.19 6095.26 6095.45 6095.49] [6143.54 6144.62 6144.98 6145.   6145.03] 0.46874570846557617\n",
      " [6095.48 6095.49 6095.54 6097.07 6097.13] [6146.35 6147.   6148.4  6148.54 6149.  ] 0.25429439544677734\n",
      " [6097.6  6097.61 6098.   6099.   6099.99] [6160.   6160.   6160.01 6160.12 6161.  ] 0.18401098251342773\n",
      " [6097.66 6098.01 6098.49 6099.   6099.99] [6160.   6160.01 6160.12 6161.   6161.47] 0.11833834648132324\n",
      " [6097.61 6098.01 6099.   6099.98 6099.99] [6164.98 6165.   6165.37 6165.85 6166.  ] 0.11527490615844727\n",
      " [6099.   6099.75 6099.95 6099.98 6099.99] [6171.46 6173.   6173.06 6173.49 6173.66] 0.23636579513549805\n",
      " [6093.21 6093.89 6093.9  6094.32 6094.33] [6148.54 6149.   6149.01 6149.1  6149.98] 0.12485933303833008\n",
      " [6099.4  6099.44 6099.45 6099.48 6099.51] [6158.   6158.99 6159.   6159.   6159.16] 0.15914702415466309\n",
      " [6088.2  6088.25 6088.29 6089.37 6089.56] [6118.61 6118.69 6119.   6119.99 6120.  ] 0.27537989616394043\n",
      " [6055.   6055.99 6057.   6057.58 6057.73] [6102.99 6103.   6103.01 6103.02 6103.03] 0.21286511421203613\n",
      " [6059.24 6059.46 6059.74 6060.14 6062.49] [6118.61 6119.   6119.99 6120.   6120.2 ] 0.19356846809387207Error: Expecting value: line 1 column 1 (char 0) - data: None\n",
      "\n",
      "-- OrderBook Socket Closed! --\n",
      "Orderbook is stopped, restarting...\n",
      "-- Subscribed to OrderBook(Inmensus)! --\n",
      "\n",
      "Doing initial sleep...\n",
      "Collecting data...\n",
      " [6068.99 6069.   6070.   6070.48 6073.19] [6120.72 6120.73 6121.03 6121.04 6121.15] 0.10866808891296387\n",
      " [6064.04 6065.   6065.04 6066.69 6067.9 ] [6102.26 6102.6  6102.61 6102.62 6102.62] 0.10873460769653325\n",
      " [6064.04 6065.01 6065.13 6065.27 6069.  ] [6102.67 6102.68 6102.88 6102.89 6102.99] 0.10874485969543457\n",
      " [6036.   6036.16 6038.48 6039.95 6039.96] [6096.09 6096.1  6096.3  6096.67 6097.19] 0.10866212844848633\n",
      " [5997.89 5998.27 5999.68 5999.9  5999.99] [6079.7  6079.79 6079.84 6079.85 6079.86] 0.13996434211730957\n",
      " [5984.49 5984.5  5984.51 5984.56 5984.99] [6075.54 6075.58 6075.71 6075.85 6076.12] 0.12451696395874023\n",
      " [5963.82 5964.29 5965.   5965.72 5965.73] [6078.5  6078.52 6078.54 6078.58 6078.7 ] 0.10908484458923342\n",
      " [5895.   5896.38 5896.39 5896.43 5896.89] [6029.69 6030.   6030.02 6030.41 6030.51] 0.13996863365173346\n",
      " [5942.03 5942.04 5943.77 5946.04 5947.86] [6062.79 6065.   6065.54 6066.61 6066.66] 0.10872149467468262\n",
      " [5923.01 5923.46 5923.51 5925.5  5927.  ] [6012.35 6012.41 6012.5  6014.42 6015.35] 0.10866141319274902Error: Expecting value: line 1 column 1 (char 0) - data: None\n",
      "\n",
      "-- OrderBook Socket Closed! --\n",
      "Orderbook is stopped, restarting...\n",
      "-- Subscribed to OrderBook(Inmensus)! --\n",
      "\n",
      "Doing initial sleep...\n",
      "Collecting data...\n",
      " [5921.3  5921.5  5923.01 5923.46 5923.47] [6009.23 6009.73 6010.   6010.02 6010.6 ] 0.09307861328125073\n",
      " [5931.94 5932.03 5932.57 5933.76 5934.24] [6037.77 6037.96 6038.72 6039.3  6040.  ] 0.12927746772766113\n",
      " [5905.88 5906.44 5906.45 5906.49 5908.5 ] [5995.7  5996.65 5996.7  5996.96 5997.07] 0.09303927421569824\n",
      " [5877.44 5878.73 5879.24 5879.29 5879.99] [5983.01 5983.22 5983.53 5983.71 5983.94] 0.10868239402770996\n",
      " [5838.   5839.68 5839.73 5842.68 5842.69] [5982.94 5983.01 5983.22 5983.53 5983.71] 0.15141081809997559\n",
      " [5880.24 5880.42 5880.53 5884.1  5886.08] [6001.   6001.   6004.99 6005.   6006.88] 0.12360191345214844\n"
     ]
    },
    {
     "name": "stdout",
     "output_type": "stream",
     "text": [
      " [5891.4  5891.41 5894.2  5894.99 5895.38] [6030.33 6030.41 6030.51 6033.28 6035.  ] 0.13056302070617676\n",
      " [5877.77 5877.78 5880.   5880.01 5880.02] [5989.76 5990.   5990.02 5992.62 5992.82] 0.11132812523913574\n",
      " [5874.38 5875.   5875.7  5875.74 5876.33] [5975.   5975.78 5976.   5977.16 5977.86] 0.10933423042297363\n",
      " [5883.46 5883.48 5883.49 5884.19 5887.39] [6009.73 6010.   6011.03 6012.41 6012.5 ] 0.11128139495849616\n",
      " [5878.74 5880.   5880.85 5880.86 5881.69] [5999.   5999.   5999.95 5999.97 5999.99] 0.11126136779785156\n",
      " [5871.72 5873.53 5874.45 5874.99 5875.  ] [5985.   5985.34 5987.   5987.5  5989.  ] 0.33808636665344243\n",
      " [5873.   5873.04 5873.05 5873.83 5873.92] [5980.01 5980.02 5980.1  5981.47 5982.14] 0.39717626571655273\n",
      " [5877.   5877.7  5878.   5879.   5879.99] [5997.   5997.07 5998.   5998.   5999.  ] 0.370003223419189451.0117385387420654\n",
      " [5866.5  5866.61 5866.66 5866.84 5869.56] [5965.74 5966.62 5966.66 5966.98 5967.05] 0.35104703903198245\n",
      " [5872.97 5874.   5874.43 5874.52 5874.99] [5995.   5996.   5996.65 5997.   5998.  ] 0.38097929954528815\n",
      " [5862.   5864.02 5865.01 5865.7  5865.71] [5992.62 5992.82 5993.   5993.59 5994.  ] 0.33706307411193855\n",
      " [5873.74 5873.81 5874.47 5874.98 5874.99] [5960.   5960.02 5960.1  5961.   5962.5 ] 0.34107804298400884\n",
      " [5874.28 5874.5  5874.77 5874.98 5874.99] [5949.   5950.   5950.   5950.02 5951.83] 0.40742897987365727\n",
      " [5875.   5876.38 5876.46 5876.71 5878.79] [5977.16 5977.23 5977.86 5977.88 5979.  ] 0.48123550415039063\n",
      " [5873.59 5873.79 5873.83 5874.41 5874.99] [5967.05 5967.13 5967.13 5969.71 5970.  ] 0.37256288528442383\n",
      " [5861.78 5861.93 5862.   5862.5  5862.51] [5948.9  5949.   5950.   5950.   5950.02] 0.14540886878967285\n",
      " [5865.59 5866.52 5866.72 5866.9  5867.  ] [5982.75 5983.22 5985.   5985.34 5985.34] 0.12522673606872559\n",
      " [5815.   5815.22 5815.32 5817.91 5818.01] [5940.58 5941.06 5943.   5945.   5946.  ] 0.12920355796813965\n",
      " [5816.15 5818.01 5818.4  5819.99 5820.  ] [5930.   5930.02 5933.29 5933.93 5934.17] 0.12030291557312012\n",
      " [5853.1  5853.11 5853.12 5855.   5857.61] [5970.01 5970.39 5973.   5975.   5975.  ] 0.14162111282348633\n",
      " [5886.62 5886.95 5887.36 5888.   5888.99] [6045.14 6045.52 6046.92 6047.   6047.02] 0.20644807815551758\n",
      " [5881.04 5882.74 5882.77 5883.98 5884.43] [6040.56 6040.82 6041.14 6043.   6043.64] 0.15933394432067878\n",
      " [5875.11 5875.85 5876.22 5877.57 5877.72] [6040.   6040.   6040.56 6040.82 6041.14] 0.15886759757995605\n",
      " [5875.9  5876.47 5876.54 5878.5  5881.  ] [6030.33 6030.41 6032.   6033.28 6035.  ] 0.15116310119628906\n",
      " [5883.57 5883.68 5883.9  5883.98 5883.99] [6024.23 6024.54 6025.   6025.   6027.  ] 0.16053676605224616\n",
      " [5879.47 5880.39 5880.47 5882.59 5882.99] [6020.47 6021.01 6022.22 6022.87 6022.87] 0.12126374244689941\n",
      " [5887.55 5887.64 5887.67 5887.9  5887.99] [6022.22 6022.87 6022.87 6024.   6024.23] 0.11428737640380866\n",
      " [5890.4  5890.42 5890.68 5891.57 5891.94] [6025.   6025.   6027.   6027.71 6027.87] 0.12659478187561035\n",
      " [5897.83 5897.98 5898.01 5898.02 5898.66] [6037.5  6037.74 6037.96 6039.3  6040.  ] 0.11924386024475098\n",
      " [5906.14 5906.18 5907.81 5907.85 5907.86] [6035.   6037.5  6037.74 6037.96 6039.3 ] 0.15758013725280762\n",
      " [5900.   5901.21 5902.66 5902.68 5902.7 ] [6035.   6037.5  6037.74 6037.96 6039.3 ] 0.20145893096923828\n",
      " [5890.49 5890.5  5891.06 5891.49 5891.89] [6022.87 6023.   6024.   6024.23 6024.54] 0.11424374580383301\n",
      " [5898.   5898.01 5899.19 5899.48 5899.97] [6015.   6015.35 6016.   6017.   6018.67] 0.12133836746215826\n",
      " [5899.68 5901.12 5901.39 5901.68 5904.07] [6030.   6030.   6030.33 6030.35 6030.41] 0.12325048446655273\n",
      " [5900.   5900.27 5900.42 5901.17 5902.01] [6027.87 6028.   6028.76 6028.86 6029.99] 0.11632490158081055"
     ]
    }
   ],
   "source": [
    "order_book.start()\n",
    "print(\"Doing initial sleep...\")\n",
    "time.sleep(INITIAL_WAIT)\n",
    "print(\"Collecting data...\")\n",
    "\n",
    "print(\"Recording order_book every {} seconds for {} seconds\".format(TIME_STEP, SZ / 2))\n",
    "per_checkpoint = SZ // C_CHECKPOINTS\n",
    "try:\n",
    "    idx = 0\n",
    "    for idx in range(SZ):\n",
    "        beg_time = time.time()\n",
    "        \n",
    "        #in case of error, make sure the order_book is still open\n",
    "        if order_book.stop:\n",
    "            print(\"Orderbook is stopped, restarting...\")\n",
    "            order_book.start()\n",
    "            print(\"Doing initial sleep...\")\n",
    "            time.sleep(INITIAL_WAIT)\n",
    "            print(\"Collecting data...\")\n",
    "        \n",
    "        record_order_book(idx, order_book, time.time())\n",
    "        \n",
    "        #logging\n",
    "        print(\"\\r\", bid_record[idx,-5:,0], ask_record[idx,-5:,0], time.time() - beg_time, end=\"\")\n",
    "        if idx % per_checkpoint == 0:\n",
    "            print()\n",
    "        \n",
    "        end_time = time.time()\n",
    "        elapsed_time = end_time - beg_time\n",
    "        time.sleep(max(TIME_STEP - elapsed_time, 0))\n",
    "        \n",
    "except KeyboardInterrupt as e:\n",
    "    order_book.close()\n",
    "    raise(e)"
   ]
  },
  {
   "cell_type": "code",
   "execution_count": 12,
   "metadata": {},
   "outputs": [
    {
     "data": {
      "text/plain": [
       "[<matplotlib.lines.Line2D at 0x182fd135a90>]"
      ]
     },
     "execution_count": 12,
     "metadata": {},
     "output_type": "execute_result"
    },
    {
     "data": {
      "image/png": "[encoded data removed]",
      "text/plain": [
       "<Figure size 432x288 with 1 Axes>"
      ]
     },
     "metadata": {},
     "output_type": "display_data"
    }
   ],
   "source": [
    "plt.plot(time_record)"
   ]
  },
  {
   "cell_type": "code",
   "execution_count": 13,
   "metadata": {},
   "outputs": [
    {
     "data": {
      "text/plain": [
       "[<matplotlib.lines.Line2D at 0x182c6226ac8>]"
      ]
     },
     "execution_count": 13,
     "metadata": {},
     "output_type": "execute_result"
    },
    {
     "data": {
      "image/png": "[encoded data removed]",
      "text/plain": [
       "<Figure size 432x288 with 1 Axes>"
      ]
     },
     "metadata": {},
     "output_type": "display_data"
    }
   ],
   "source": [
    "plt.plot(bid_record[:,:,1].sum(axis=1))\n",
    "plt.plot(ask_record[:,:,1].sum(axis=1))"
   ]
  },
  {
   "cell_type": "code",
   "execution_count": 15,
   "metadata": {},
   "outputs": [],
   "source": [
    "np.save('data/bid-record.npy', bid_record)\n",
    "np.save('data/ask-record.npy', ask_record)\n",
    "np.save('data/time-record.npy', time_record)"
   ]
  },
  {
   "cell_type": "code",
   "execution_count": null,
   "metadata": {},
   "outputs": [],
   "source": []
  }
 ],
 "metadata": {
  "kernelspec": {
   "display_name": "Python 3",
   "language": "python",
   "name": "python3"
  },
  "language_info": {
   "codemirror_mode": {
    "name": "ipython",
    "version": 3
   },
   "file_extension": ".py",
   "mimetype": "text/x-python",
   "name": "python",
   "nbconvert_exporter": "python",
   "pygments_lexer": "ipython3",
   "version": "3.6.5"
  }
 },
 "nbformat": 4,
 "nbformat_minor": 2
}
