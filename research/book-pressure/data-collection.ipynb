{
 "cells": [
  {
   "cell_type": "code",
   "execution_count": 1,
   "metadata": {},
   "outputs": [],
   "source": [
    "from datetime import datetime\n",
    "import time\n",
    "\n",
    "import gdax\n",
    "import numpy as np\n",
    "import pandas as pd\n",
    "\n",
    "%matplotlib inline\n",
    "import matplotlib.pyplot as plt"
   ]
  },
  {
   "cell_type": "code",
   "execution_count": 12,
   "metadata": {},
   "outputs": [],
   "source": [
    "NUM_LEVELS = 256\n",
    "SZ = int(2e5)\n",
    "INITIAL_WAIT = 10\n",
    "TIME_STEP = 0.5\n",
    "C_CHECKPOINTS = 100"
   ]
  },
  {
   "cell_type": "code",
   "execution_count": 13,
   "metadata": {},
   "outputs": [],
   "source": [
    "class OrderBookInmensus(gdax.OrderBook):\n",
    "    def __init__(self, product_id='BTC-USD', log_to=None):\n",
    "        super(OrderBookInmensus, self).__init__(product_id=product_id)\n",
    "        \n",
    "    def on_open(self):\n",
    "        self._sequence = -1\n",
    "        print(\"-- Subscribed to OrderBook(Inmensus)! --\\n\")\n",
    "        \n",
    "    def on_error(self, e, data=None):\n",
    "        self.error = e\n",
    "        self.stop = True\n",
    "        print('Error: {} - data: {}'.format(e, data))\n",
    "        "
   ]
  },
  {
   "cell_type": "code",
   "execution_count": 14,
   "metadata": {},
   "outputs": [],
   "source": [
    "order_book = OrderBookInmensus(product_id='BTC-USD')"
   ]
  },
  {
   "cell_type": "code",
   "execution_count": 15,
   "metadata": {},
   "outputs": [
    {
     "name": "stdout",
     "output_type": "stream",
     "text": [
      "-- Subscribed to OrderBook(Inmensus)! --\n",
      "\n",
      "\n",
      "-- OrderBook Socket Closed! --\n"
     ]
    }
   ],
   "source": [
    "order_book.start()\n",
    "time.sleep(INITIAL_WAIT)\n",
    "order_book.close()"
   ]
  },
  {
   "cell_type": "code",
   "execution_count": 16,
   "metadata": {},
   "outputs": [
    {
     "data": {
      "text/plain": [
       "[Decimal('6129.99000000'),\n",
       " Decimal('0.02000000'),\n",
       " 'cf618755-3c44-4479-87a7-ffc31d86674f']"
      ]
     },
     "execution_count": 16,
     "metadata": {},
     "output_type": "execute_result"
    }
   ],
   "source": [
    "order_book.get_current_book()['bids'][-1]"
   ]
  },
  {
   "cell_type": "code",
   "execution_count": 17,
   "metadata": {},
   "outputs": [
    {
     "name": "stdout",
     "output_type": "stream",
     "text": [
      "Wall time: 153 ms\n"
     ]
    },
    {
     "data": {
      "image/png": "[encoded data removed]",
      "text/plain": [
       "<Figure size 432x288 with 1 Axes>"
      ]
     },
     "metadata": {},
     "output_type": "display_data"
    }
   ],
   "source": [
    "%%time\n",
    "def aggregate(orders, is_bid):\n",
    "    dfreq = {}\n",
    "    for dp, dv, _ in orders:\n",
    "        sp = str(dp)\n",
    "        v = np.float(dv)\n",
    "        if sp in dfreq:\n",
    "            dfreq[sp] += v\n",
    "        else:\n",
    "            dfreq[sp] = v\n",
    "    \n",
    "    lfreq = list(dfreq.items())\n",
    "    lfreq = [(np.float(p), v) for p, v in lfreq]\n",
    "    lfreq.sort()\n",
    "    \n",
    "    if is_bid:\n",
    "        return np.asarray(lfreq[-NUM_LEVELS:])\n",
    "    else:\n",
    "        return np.asarray(lfreq[:NUM_LEVELS])\n",
    "\n",
    "def get_vols(order_book):\n",
    "    cur_book = order_book.get_current_book()\n",
    "    bid_vols = aggregate(cur_book['bids'], True)\n",
    "    ask_vols = aggregate(cur_book['asks'], False)\n",
    "    return bid_vols, ask_vols\n",
    "\n",
    "bv, av = get_vols(order_book)\n",
    "plt.plot(bv[:, 0], bv[:, 1].sum() - bv[:, 1].cumsum())\n",
    "plt.plot(av[:, 0], av[:, 1].cumsum())"
   ]
  },
  {
   "cell_type": "code",
   "execution_count": 18,
   "metadata": {},
   "outputs": [
    {
     "name": "stdout",
     "output_type": "stream",
     "text": [
      "Will last 27.77777777777778 hours\n"
     ]
    }
   ],
   "source": [
    "bid_record = np.zeros((SZ, NUM_LEVELS, 2))\n",
    "ask_record = np.zeros((SZ, NUM_LEVELS, 2))\n",
    "time_record = np.zeros(SZ)\n",
    "print(\"Will last\", SZ / 60.0 / 60 / 2, \"hours\")"
   ]
  },
  {
   "cell_type": "code",
   "execution_count": 19,
   "metadata": {},
   "outputs": [],
   "source": [
    "def record_order_book(idx, order_book, t):\n",
    "    bv, av = get_vols(order_book)\n",
    "    bid_record[idx] = bv\n",
    "    ask_record[idx] = av\n",
    "    time_record[idx] = t"
   ]
  },
  {
   "cell_type": "code",
   "execution_count": 20,
   "metadata": {},
   "outputs": [
    {
     "name": "stdout",
     "output_type": "stream",
     "text": [
      "Wall time: 231 ms\n"
     ]
    }
   ],
   "source": [
    "%%time\n",
    "record_order_book(0, order_book, time.time())"
   ]
  },
  {
   "cell_type": "code",
   "execution_count": 21,
   "metadata": {
    "scrolled": false
   },
   "outputs": [
    {
     "name": "stdout",
     "output_type": "stream",
     "text": [
      "-- Subscribed to OrderBook(Inmensus)! --\n",
      "\n",
      "Doing initial sleep...\n",
      "Collecting data...\n",
      "Recording order_book every 0.25 seconds for 100000.0 seconds\n",
      " [6127.66 6128.16 6128.46 6128.56 6128.56] [6176.32 6176.76 6176.99 6177.   6178.  ] 0.10483336448669434\n",
      " [6130.72 6133.35 6134.42 6134.82 6137.86] [6229.   6229.34 6229.74 6230.   6230.03] 0.10909962654113776\n",
      " [6135.   6135.08 6135.11 6135.12 6135.69] [6223.79 6225.   6225.73 6225.99 6226.  ] 0.09307622909545898\n",
      " [6129.29 6129.49 6129.66 6129.99 6130.  ] [6212.   6212.5  6212.5  6213.11 6213.99] 0.09329462051391602\n",
      " [6126.47 6128.6  6129.   6129.6  6130.  ] [6198.64 6198.9  6199.   6199.6  6199.98] 0.10603165626525879\n",
      " [6132.85 6135.8  6135.84 6135.85 6137.66] [6217.   6217.37 6217.57 6217.91 6218.16] 0.09456562995910645\n",
      " [6132.73 6132.74 6132.75 6135.   6136.49] [6200.03 6201.4  6201.65 6201.99 6205.14] 0.09394621849060059\n",
      " [6148.83 6149.5  6149.95 6149.97 6150.  ] [6222.   6222.24 6223.   6223.02 6223.79] 0.10189628601074219\n",
      " [6145.   6145.45 6145.47 6146.04 6147.47] [6219.98 6219.99 6220.   6220.03 6220.33] 0.12470436096191406\n",
      " [6135.79 6135.8  6135.81 6141.   6141.37] [6180.   6180.   6180.45 6180.49 6181.24] 0.10358071327209473\n",
      " [6131.41 6131.68 6131.74 6131.75 6133.34] [6201.4  6201.65 6201.99 6205.14 6205.44] 0.10906887054443363\n",
      " [6136.64 6137.24 6138.26 6138.59 6140.76] [6226.93 6226.99 6227.   6227.   6227.24] 0.14184379577636726\n",
      " [6136.64 6136.87 6137.87 6138.   6138.95] [6189.54 6189.55 6189.98 6189.99 6190.  ] 0.12639832496643066\n",
      " [6150.   6150.1  6150.12 6150.19 6150.98] [6215.   6216.   6216.44 6216.99 6217.57] 0.09345960617065433\n",
      " [6149.34 6149.47 6149.48 6149.66 6149.72] [6216.   6216.44 6216.99 6217.57 6217.91] 0.12506532669067383\n",
      " [6153.5  6153.55 6153.56 6155.   6155.13] [6197.77 6198.   6198.   6198.64 6198.9 ] 0.10987019538879395\n",
      " [6234.89 6234.9  6235.24 6238.   6238.35] [6326.83 6326.93 6327.28 6328.32 6328.45] 0.09687590599060059\n",
      " [6205.06 6207.13 6207.16 6207.45 6208.18] [6291.   6291.25 6291.75 6291.86 6292.  ] 0.09353923797607422\n",
      " [6200.08 6200.09 6200.1  6201.65 6204.83] [6293.84 6294.   6294.99 6295.25 6296.08] 0.09309792518615723\n",
      " [6201.47 6201.95 6202.   6202.2  6204.85] [6290.3  6290.93 6291.   6291.25 6291.75] 0.12518858909606934\n",
      " [6196.69 6199.06 6199.24 6199.9  6200.  ] [6276.68 6276.93 6277.   6277.16 6277.17] 0.09388899803161621\n",
      " [6177.34 6178.   6178.05 6178.24 6178.6 ] [6258.49 6258.64 6259.   6259.09 6259.2 ] 0.09306502342224121\n",
      " [6174.56 6174.62 6174.98 6178.05 6178.06] [6246.39 6246.4  6246.99 6247.   6247.13] 0.15762090682983398\n",
      " [6185.59 6185.61 6185.7  6186.25 6186.33] [6263.29 6263.72 6263.98 6265.   6266.64] 0.11023116111755371\n",
      " [6144.63 6144.92 6145.   6146.08 6146.99] [6237.55 6238.   6238.11 6238.97 6239.3 ] 0.12624287605285645\n",
      " [6129.3  6129.47 6132.66 6133.   6133.03] [6249.33 6249.98 6250.   6250.03 6250.77] 0.11991167068481445\n",
      " [6122.25 6123.31 6124.25 6124.26 6124.87] [6231.02 6231.09 6231.53 6232.67 6233.31] 0.12177395820617676\n",
      " [6126.62 6128.   6131.95 6132.   6132.01] [6240.   6240.03 6240.59 6240.68 6241.  ] 0.11577653884887695\n",
      " [6097.83 6098.44 6099.   6100.   6101.46] [6249.98 6250.   6250.03 6250.54 6251.09] 0.14477157592773438\n",
      " [6110.   6110.54 6112.5  6114.45 6119.  ] [6149.87 6150.   6150.01 6150.07 6150.27] 0.12524652481079102\n",
      " [6103.21 6105.   6105.1  6107.   6107.38] [6147.38 6147.46 6147.47 6147.48 6147.52] 0.15174603462219238\n",
      " [6112.56 6114.49 6114.55 6114.6  6114.99] [6145.51 6145.52 6145.55 6145.57 6145.64] 0.15014910697937012\n",
      " [6108.   6108.01 6108.05 6108.35 6109.24] [6145.38 6145.46 6145.47 6145.51 6145.52] 0.13264083862304688\n",
      " [6110.   6110.2  6110.59 6112.   6112.24] [6146.64 6146.65 6146.68 6146.73 6146.76] 0.12466835975646973\n",
      " [6110.59 6111.39 6112.   6112.65 6113.45] [6146.47 6146.48 6146.51 6146.52 6146.53] 0.14152002334594727\n",
      " [6070.   6070.52 6070.99 6072.99 6075.15] [6143.29 6143.32 6143.38 6143.46 6143.51] 0.10495519638061523\n",
      " [6102.58 6103.84 6104.13 6104.23 6107.6 ] [6146.29 6146.32 6146.34 6146.46 6146.47] 0.11835861206054688\n",
      " [6096.97 6097.18 6097.91 6099.82 6101.43] [6147.48 6147.51 6147.55 6147.57 6147.6 ] 0.12329578399658203\n",
      " [6045.   6046.99 6047.02 6047.83 6047.84] [6136.93 6137.2  6137.4  6137.5  6138.4 ] 0.11326837539672852\n",
      " [5975.1  5976.46 5976.52 5976.53 5979.23] [6120.02 6120.03 6120.11 6120.12 6120.13] 0.15242242813110352\n",
      " [5910.34 5912.39 5914.3  5914.31 5914.32] [6111.35 6111.46 6111.58 6111.62 6112.35] 0.11015439033508301\n",
      " [5925.88 5926.3  5929.   5930.   5932.22] [6112.59 6112.62 6112.78 6112.8  6112.82] 0.20404672622680664\n",
      " [5899.99 5900.   5900.5  5900.51 5900.98] [6068.24 6070.   6072.29 6072.78 6074.  ] 0.12768959999084473\n",
      " [5902.73 5902.76 5904.5  5904.57 5904.99] [6075.84 6079.99 6080.   6081.89 6083.26] 0.10758852958679199\n",
      " [5902.34 5903.   5904.   5904.57 5905.  ] [6040.   6040.02 6040.21 6040.42 6043.01] 0.13717937469482422\n",
      " [5866.66 5866.68 5866.98 5867.   5867.  ] [5950.1  5951.07 5951.08 5951.19 5954.54] 0.15624594688415527\n",
      " [5868.87 5868.88 5868.92 5872.1  5874.63] [5942.27 5942.62 5942.93 5943.   5943.08] 0.10483598709106445\n",
      " [5881.46 5881.56 5881.68 5882.32 5882.36] [5939.93 5940.   5940.08 5940.57 5940.62] 0.10875272750854492\n",
      " [5896.7  5896.9  5896.96 5897.33 5899.98] [5930.7  5930.79 5930.93 5931.   5931.01] 0.14644646644592285\n",
      " [5871.08 5871.09 5871.1  5871.11 5873.99] [5933.64 5933.93 5934.   5934.01 5934.08] 0.12976741790771484\n",
      " [5883.59 5883.61 5883.62 5883.64 5883.65] [5926.01 5926.02 5926.1  5926.15 5926.49] 0.10974955558776855\n",
      " [5875.   5875.02 5875.03 5875.93 5878.24] [5912.46 5912.47 5912.91 5912.95 5913.06] 0.12648129463195899\n",
      " [5874.99 5875.   5875.77 5878.   5878.99] [5911.12 5911.27 5911.29 5911.31 5911.4 ] 0.11071443557739258\n",
      " [5865.5  5866.53 5870.   5870.03 5870.43] [5910.42 5910.44 5910.45 5910.46 5910.47] 0.11092066764831543\n",
      " [5853.   5855.   5858.98 5859.17 5859.19] [5906.47 5906.48 5906.71 5906.83 5906.91] 0.13114762306213388\n",
      " [5858.96 5860.   5860.03 5863.   5863.54] [5902.31 5902.35 5902.36 5902.38 5902.4 ] 0.10958242416381836\n",
      " [5885.08 5885.43 5885.5  5887.48 5887.49] [5902.04 5902.12 5902.13 5902.2  5902.22] 0.11050391197204597\n",
      " [5896.11 5898.27 5899.02 5899.03 5899.99] [5935.   5935.01 5935.3  5935.31 5935.62] 0.10892629623413086\n",
      " [5878.17 5878.48 5880.   5880.01 5880.93] [5934.31 5934.62 5934.64 5934.93 5935.  ] 0.11681175231933594\n",
      " [5897.27 5897.32 5900.4  5900.5  5904.31] [5938.3  5938.31 5938.39 5938.6  5938.64] 0.11138844490051272\n",
      " [5891.35 5892.76 5892.77 5892.78 5899.22] [5938.64 5938.93 5938.98 5939.08 5939.26] 0.09512805938720703\n",
      " [5910.87 5910.88 5911.62 5912.32 5913.36] [6010.   6010.14 6011.86 6011.87 6012.37] 0.11056613922119141\n",
      " [5937.99 5938.72 5940.   5941.82 5941.99] [6108.46 6108.6  6108.62 6108.99 6109.35] 0.11092972755432129\n",
      " [5924.31 5924.33 5924.61 5926.77 5927.82] [6104.35 6104.99 6105.06 6105.12 6105.35] 0.11252927780151367\n",
      " [5916.97 5917.04 5917.52 5920.   5922.95] [6072.29 6072.78 6073.13 6074.   6074.99] 0.09846949577331543\n",
      " [5923.37 5925.   5927.   5928.08 5930.59] [6102.   6104.   6104.35 6104.99 6105.12] 0.11063218116760254\n",
      " [5903.83 5904.53 5904.54 5907.94 5909.97] [5970.   5970.38 5971.02 5971.1  5971.24] 0.09930491447448731\n",
      " [5894.   5894.66 5894.94 5894.98 5895.  ] [5948.01 5948.96 5949.   5949.35 5949.38] 0.10936999320983887\n",
      " [5900.   5900.33 5900.36 5900.37 5900.39] [5940.57 5942.31 5943.76 5946.04 5946.7 ] 0.09532999992370605\n",
      " [5907.56 5907.57 5907.99 5909.56 5913.49] [5961.34 5962.17 5962.65 5962.91 5963.15] 0.10981059074401855\n",
      " [5928.48 5928.58 5928.59 5930.09 5930.55] [6076.93 6078.32 6079.   6080.   6080.11] 0.11132144927978516\n",
      " [5913.54 5914.54 5915.05 5915.7  5915.71] [6050.   6050.28 6051.   6052.58 6053.08] 0.19317793846130372\n",
      " [5917.19 5918.89 5918.9  5918.91 5921.27] [6039.55 6039.68 6040.   6040.12 6040.21] 0.10892128944396973\n",
      " [5926.95 5927.02 5927.51 5930.13 5932.  ] [6062.71 6066.11 6066.66 6066.98 6067.  ] 0.09905838966369629\n",
      " [5927.51 5927.65 5928.5  5928.8  5928.82] [6056.27 6056.69 6057.78 6058.52 6060.  ] 0.12953472137451172\n",
      " [5932.2 5932.3 5932.5 5932.6 5932.8] [6043.5  6044.   6044.35 6044.99 6045.51] 0.2669909000396728501855\n"
     ]
    },
    {
     "name": "stdout",
     "output_type": "stream",
     "text": [
      " [5921.89 5921.95 5921.96 5922.16 5924.89] [6007.8  6007.82 6008.84 6009.73 6010.  ] 0.11551594734191895\n",
      " [5860.86 5861.27 5861.9  5863.43 5864.2 ] [5973.   5974.   5974.28 5974.99 5975.  ] 0.12718415260314941\n",
      " [5849.98 5850.   5850.5  5850.68 5851.42] [5974.28 5974.99 5975.   5977.   5977.85] 0.11247181892395023\n",
      " [5839.97 5840.   5840.02 5841.98 5843.98] [5942.1  5942.2  5942.39 5942.75 5942.76] 0.11307621002197266\n",
      " [5813.49 5816.07 5816.12 5817.77 5819.32] [5919.95 5920.   5920.02 5920.05 5920.14] 0.09591126441955566\n",
      " [5883.99 5886.   5886.15 5889.01 5890.  ] [5917.05 5917.07 5917.14 5917.16 5917.17] 0.11165904998779297\n",
      " [5922.19 5922.2  5922.73 5922.74 5924.56] [6049.78 6050.   6050.28 6050.65 6051.  ] 0.13300299644470215\n",
      " [6201.66 6201.7  6201.71 6204.49 6208.08] [6315.19 6316.08 6316.96 6317.22 6318.  ] 0.11347389221191406\n",
      " [6165.64 6165.65 6167.56 6169.7  6169.71] [6284.99 6285.   6285.   6285.79 6287.  ] 0.09954333305358887\n",
      " [6212.98 6213.23 6215.   6217.   6217.07] [6328.32 6328.41 6328.45 6329.51 6329.99] 0.11033749580383301\n",
      " [6190.02 6190.63 6190.75 6191.5  6194.46] [6299.99 6300.   6300.   6300.01 6300.02] 0.14517068862915043\n",
      " [6161.88 6162.5  6162.65 6163.78 6164.  ] [6297.98 6298.   6298.   6298.88 6298.92] 0.12573099136352545\n",
      " [6191.78 6191.79 6192.92 6194.5  6196.66] [6291.25 6292.   6292.   6293.84 6294.62] 0.10950541496276855\n",
      " [6173.18 6173.88 6174.87 6174.93 6175.  ] [6269.11 6269.37 6269.99 6270.   6270.  ] 0.13059353828430176\n",
      " [6168.97 6169.   6171.37 6171.53 6171.99] [6216.56 6216.61 6216.63 6216.65 6216.69] 0.11038541793823242\n",
      " [6177.21 6177.94 6178.49 6178.61 6178.69] [6209.2  6209.27 6209.28 6209.29 6209.3 ] 0.10865449905395508\n",
      " [6165.   6165.09 6165.59 6165.92 6165.93] [6207.79 6207.8  6207.81 6207.82 6207.83] 0.11278820037841797\n",
      " [6186.62 6187.08 6188.56 6188.59 6188.66] [6210.45 6210.52 6210.56 6210.58 6210.65] 0.12890386581420898\n",
      " [6155.   6155.03 6155.24 6159.5  6159.99] [6207.49 6207.52 6207.55 6207.65 6207.69] 0.11218452453613281\n",
      " [6152.6  6153.11 6155.   6157.96 6158.04] [6201.81 6201.83 6201.84 6201.98 6202.13] 0.11279344558715827\n",
      " [6164.99 6166.98 6171.43 6171.45 6171.99] [6205.13 6205.25 6205.32 6205.34 6205.37] 0.11094093322753906\n",
      " [6180.01 6180.69 6180.71 6180.72 6180.73] [6208.35 6208.4  6208.45 6208.52 6208.56] 0.11253476142883301\n",
      " [6189.65 6190.   6190.65 6192.   6192.5 ] [6208.72 6208.73 6208.76 6208.79 6208.8 ] 0.10927104949951172\n",
      " [6176.32 6176.35 6178.84 6179.   6180.  ] [6207.52 6207.65 6207.69 6207.72 6207.73] 0.11096525192260742\n",
      " [6161.88 6161.95 6162.   6162.01 6162.07] [6200.98 6201.   6201.01 6201.06 6201.08] 0.10528516769409188"
     ]
    }
   ],
   "source": [
    "order_book.start()\n",
    "print(\"Doing initial sleep...\")\n",
    "time.sleep(INITIAL_WAIT)\n",
    "print(\"Collecting data...\")\n",
    "\n",
    "print(\"Recording order_book every {} seconds for {} seconds\".format(TIME_STEP, SZ / 2))\n",
    "per_checkpoint = SZ // C_CHECKPOINTS\n",
    "try:\n",
    "    idx = 0\n",
    "    for idx in range(SZ):\n",
    "        beg_time = time.time()\n",
    "        \n",
    "        #in case of error, make sure the order_book is still open\n",
    "        if order_book.stop:\n",
    "            print(\"Orderbook is stopped, restarting...\")\n",
    "            order_book.start()\n",
    "            print(\"Doing initial sleep...\")\n",
    "            time.sleep(INITIAL_WAIT)\n",
    "            print(\"Collecting data...\")\n",
    "        \n",
    "        record_order_book(idx, order_book, time.time())\n",
    "        \n",
    "        #logging\n",
    "        print(\"\\r\", bid_record[idx,-5:,0], ask_record[idx,-5:,0], time.time() - beg_time, end=\"\")\n",
    "        if idx % per_checkpoint == 0:\n",
    "            print()\n",
    "        \n",
    "        end_time = time.time()\n",
    "        elapsed_time = end_time - beg_time\n",
    "        time.sleep(max(TIME_STEP - elapsed_time, 0))\n",
    "        \n",
    "except KeyboardInterrupt as e:\n",
    "    order_book.close()\n",
    "    raise(e)"
   ]
  },
  {
   "cell_type": "code",
   "execution_count": 22,
   "metadata": {},
   "outputs": [
    {
     "data": {
      "text/plain": [
       "[<matplotlib.lines.Line2D at 0x24407302080>]"
      ]
     },
     "execution_count": 22,
     "metadata": {},
     "output_type": "execute_result"
    },
    {
     "data": {
      "image/png": "[encoded data removed]",
      "text/plain": [
       "<Figure size 432x288 with 1 Axes>"
      ]
     },
     "metadata": {},
     "output_type": "display_data"
    }
   ],
   "source": [
    "plt.plot(time_record)"
   ]
  },
  {
   "cell_type": "code",
   "execution_count": 23,
   "metadata": {},
   "outputs": [
    {
     "data": {
      "text/plain": [
       "[<matplotlib.lines.Line2D at 0x243d0f74a58>]"
      ]
     },
     "execution_count": 23,
     "metadata": {},
     "output_type": "execute_result"
    },
    {
     "data": {
      "image/png": "[encoded data removed]",
      "text/plain": [
       "<Figure size 432x288 with 1 Axes>"
      ]
     },
     "metadata": {},
     "output_type": "display_data"
    }
   ],
   "source": [
    "plt.plot(bid_record[:,:,1].sum(axis=1))\n",
    "plt.plot(ask_record[:,:,1].sum(axis=1))"
   ]
  },
  {
   "cell_type": "code",
   "execution_count": 24,
   "metadata": {},
   "outputs": [],
   "source": [
    "np.save('data/bid-record.npy', bid_record)\n",
    "np.save('data/ask-record.npy', ask_record)\n",
    "np.save('data/time-record.npy', time_record)"
   ]
  },
  {
   "cell_type": "code",
   "execution_count": null,
   "metadata": {},
   "outputs": [],
   "source": []
  }
 ],
 "metadata": {
  "kernelspec": {
   "display_name": "Python 3",
   "language": "python",
   "name": "python3"
  },
  "language_info": {
   "codemirror_mode": {
    "name": "ipython",
    "version": 3
   },
   "file_extension": ".py",
   "mimetype": "text/x-python",
   "name": "python",
   "nbconvert_exporter": "python",
   "pygments_lexer": "ipython3",
   "version": "3.6.5"
  }
 },
 "nbformat": 4,
 "nbformat_minor": 2
}
