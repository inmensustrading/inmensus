{
 "cells": [
  {
   "cell_type": "code",
   "execution_count": 1,
   "metadata": {},
   "outputs": [],
   "source": [
    "from datetime import datetime\n",
    "import time\n",
    "\n",
    "import gdax\n",
    "import numpy as np\n",
    "import pandas as pd\n",
    "\n",
    "%matplotlib inline\n",
    "import matplotlib.pyplot as plt"
   ]
  },
  {
   "cell_type": "code",
   "execution_count": 2,
   "metadata": {},
   "outputs": [],
   "source": [
    "NUM_LEVELS = 256\n",
    "SZ = int(1e5)\n",
    "INITIAL_WAIT = 10\n",
    "TIME_STEP = 0.5\n",
    "C_CHECKPOINTS = 500"
   ]
  },
  {
   "cell_type": "code",
   "execution_count": 3,
   "metadata": {},
   "outputs": [],
   "source": [
    "class OrderBookInmensus(gdax.OrderBook):\n",
    "    def __init__(self, product_id='BTC-USD', log_to=None):\n",
    "        super(OrderBookInmensus, self).__init__(product_id=product_id)\n",
    "        \n",
    "    def on_open(self):\n",
    "        self._sequence = -1\n",
    "        print(\"-- Subscribed to OrderBook(Inmensus)! --\\n\")\n",
    "        \n",
    "    def on_error(self, e, data=None):\n",
    "        self.error = e\n",
    "        self.stop = True\n",
    "        print('Error: {} - data: {}'.format(e, data))\n",
    "        "
   ]
  },
  {
   "cell_type": "code",
   "execution_count": 4,
   "metadata": {},
   "outputs": [],
   "source": [
    "order_book = OrderBookInmensus(product_id='BTC-USD')"
   ]
  },
  {
   "cell_type": "code",
   "execution_count": 5,
   "metadata": {},
   "outputs": [
    {
     "name": "stdout",
     "output_type": "stream",
     "text": [
      "-- Subscribed to OrderBook(Inmensus)! --\n",
      "\n",
      "\n",
      "-- OrderBook Socket Closed! --\n"
     ]
    }
   ],
   "source": [
    "order_book.start()\n",
    "time.sleep(INITIAL_WAIT)\n",
    "order_book.close()"
   ]
  },
  {
   "cell_type": "code",
   "execution_count": 6,
   "metadata": {},
   "outputs": [
    {
     "data": {
      "text/plain": [
       "[Decimal('6117.80000000'),\n",
       " Decimal('0.02000000'),\n",
       " 'b4c4bdf4-370b-4eaf-9311-ea53dcb2063f']"
      ]
     },
     "execution_count": 6,
     "metadata": {},
     "output_type": "execute_result"
    }
   ],
   "source": [
    "order_book.get_current_book()['bids'][-1]"
   ]
  },
  {
   "cell_type": "code",
   "execution_count": 7,
   "metadata": {},
   "outputs": [
    {
     "name": "stdout",
     "output_type": "stream",
     "text": [
      "Wall time: 131 ms\n"
     ]
    },
    {
     "data": {
      "image/png": "[encoded data removed]",
      "text/plain": [
       "<Figure size 432x288 with 1 Axes>"
      ]
     },
     "metadata": {},
     "output_type": "display_data"
    }
   ],
   "source": [
    "%%time\n",
    "def aggregate(orders, is_bid):\n",
    "    dfreq = {}\n",
    "    for dp, dv, _ in orders:\n",
    "        sp = str(dp)\n",
    "        v = np.float(dv)\n",
    "        if sp in dfreq:\n",
    "            dfreq[sp] += v\n",
    "        else:\n",
    "            dfreq[sp] = v\n",
    "    \n",
    "    lfreq = list(dfreq.items())\n",
    "    lfreq = [(np.float(p), v) for p, v in lfreq]\n",
    "    lfreq.sort()\n",
    "    \n",
    "    if is_bid:\n",
    "        return np.asarray(lfreq[-NUM_LEVELS:])\n",
    "    else:\n",
    "        return np.asarray(lfreq[:NUM_LEVELS])\n",
    "\n",
    "def get_vols(order_book):\n",
    "    cur_book = order_book.get_current_book()\n",
    "    bid_vols = aggregate(cur_book['bids'], True)\n",
    "    ask_vols = aggregate(cur_book['asks'], False)\n",
    "    return bid_vols, ask_vols\n",
    "\n",
    "bv, av = get_vols(order_book)\n",
    "plt.plot(bv[:, 0], bv[:, 1].sum() - bv[:, 1].cumsum())\n",
    "plt.plot(av[:, 0], av[:, 1].cumsum())"
   ]
  },
  {
   "cell_type": "code",
   "execution_count": 8,
   "metadata": {},
   "outputs": [
    {
     "name": "stdout",
     "output_type": "stream",
     "text": [
      "Will last 27.77777777777778 hours\n"
     ]
    }
   ],
   "source": [
    "bid_record = np.zeros((SZ, NUM_LEVELS, 2))\n",
    "ask_record = np.zeros((SZ, NUM_LEVELS, 2))\n",
    "time_record = np.zeros(SZ)\n",
    "print(\"Will last\", SZ / 60.0 / 60, \"hours\")"
   ]
  },
  {
   "cell_type": "code",
   "execution_count": 9,
   "metadata": {},
   "outputs": [],
   "source": [
    "def record_order_book(idx, order_book, t):\n",
    "    bv, av = get_vols(order_book)\n",
    "    bid_record[idx] = bv\n",
    "    ask_record[idx] = av\n",
    "    time_record[idx] = t"
   ]
  },
  {
   "cell_type": "code",
   "execution_count": 10,
   "metadata": {},
   "outputs": [
    {
     "name": "stdout",
     "output_type": "stream",
     "text": [
      "Wall time: 122 ms\n"
     ]
    }
   ],
   "source": [
    "%%time\n",
    "record_order_book(0, order_book, time.time())"
   ]
  },
  {
   "cell_type": "code",
   "execution_count": null,
   "metadata": {},
   "outputs": [
    {
     "name": "stdout",
     "output_type": "stream",
     "text": [
      "-- Subscribed to OrderBook(Inmensus)! --\n",
      "\n",
      "Doing initial sleep...\n"
     ]
    }
   ],
   "source": [
    "order_book.start()\n",
    "print(\"Doing initial sleep...\")\n",
    "time.sleep(INITIAL_WAIT)\n",
    "print(\"Collecting data...\")\n",
    "\n",
    "print(\"Recording order_book every {} seconds for {} seconds\".format(TIME_STEP, SZ))\n",
    "per_checkpoint = SZ // C_CHECKPOINTS\n",
    "try:\n",
    "    idx = 0\n",
    "    for idx in range(SZ):\n",
    "        beg_time = time.time()\n",
    "        \n",
    "        #in case of error, make sure the order_book is still open\n",
    "        if order_book.stop:\n",
    "            print(\"Orderbook is stopped, restarting...\")\n",
    "            order_book.start()\n",
    "            print(\"Doing initial sleep...\")\n",
    "            time.sleep(INITIAL_WAIT)\n",
    "            print(\"Collecting data...\")\n",
    "        \n",
    "        record_order_book(idx, order_book, time.time())\n",
    "        \n",
    "        #logging\n",
    "        print(\"\\r\", bid_record[idx,-5:,0], ask_record[idx,-5:,0], time.time() - beg_time, end=\"\")\n",
    "        if idx % per_checkpoint == 0:\n",
    "            print()\n",
    "        \n",
    "        end_time = time.time()\n",
    "        elapsed_time = end_time - beg_time\n",
    "        time.sleep(max(TIME_STEP - elapsed_time, 0))\n",
    "        \n",
    "except KeyboardInterrupt as e:\n",
    "    order_book.close()\n",
    "    raise(e)"
   ]
  },
  {
   "cell_type": "code",
   "execution_count": null,
   "metadata": {},
   "outputs": [],
   "source": [
    "plt.plot(time_record)"
   ]
  },
  {
   "cell_type": "code",
   "execution_count": null,
   "metadata": {},
   "outputs": [],
   "source": [
    "plt.plot(bid_record[:,:,1].sum(axis=1))\n",
    "plt.plot(ask_record[:,:,1].sum(axis=1))"
   ]
  },
  {
   "cell_type": "code",
   "execution_count": null,
   "metadata": {},
   "outputs": [],
   "source": [
    "np.save('data/bid-record.npy', bid_record)\n",
    "np.save('data/ask-record.npy', ask_record)\n",
    "np.save('data/time-record.npy', time_record)"
   ]
  }
 ],
 "metadata": {
  "kernelspec": {
   "display_name": "Python 3",
   "language": "python",
   "name": "python3"
  },
  "language_info": {
   "codemirror_mode": {
    "name": "ipython",
    "version": 3
   },
   "file_extension": ".py",
   "mimetype": "text/x-python",
   "name": "python",
   "nbconvert_exporter": "python",
   "pygments_lexer": "ipython3",
   "version": "3.6.5"
  }
 },
 "nbformat": 4,
 "nbformat_minor": 2
}
