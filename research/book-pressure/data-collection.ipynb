{
 "cells": [
  {
   "cell_type": "code",
   "execution_count": 1,
   "metadata": {},
   "outputs": [],
   "source": [
    "from datetime import datetime\n",
    "import time\n",
    "\n",
    "import gdax\n",
    "import numpy as np\n",
    "import pandas as pd\n",
    "\n",
    "%matplotlib inline\n",
    "import matplotlib.pyplot as plt"
   ]
  },
  {
   "cell_type": "code",
   "execution_count": 2,
   "metadata": {},
   "outputs": [],
   "source": [
    "order_book = gdax.OrderBook(product_id='BTC-USD')"
   ]
  },
  {
   "cell_type": "code",
   "execution_count": 3,
   "metadata": {},
   "outputs": [
    {
     "name": "stdout",
     "output_type": "stream",
     "text": [
      "-- Subscribed to OrderBook! --\n",
      "\n",
      "\n",
      "-- OrderBook Socket Closed! --\n"
     ]
    }
   ],
   "source": [
    "order_book.start()\n",
    "time.sleep(10)\n",
    "order_book.close()"
   ]
  },
  {
   "cell_type": "code",
   "execution_count": 4,
   "metadata": {},
   "outputs": [
    {
     "data": {
      "text/plain": [
       "[Decimal('6683.99000000'),\n",
       " Decimal('0.06500000'),\n",
       " '42307def-0239-4fd6-8a65-18a781f95cc7']"
      ]
     },
     "execution_count": 4,
     "metadata": {},
     "output_type": "execute_result"
    }
   ],
   "source": [
    "order_book.get_current_book()['bids'][-1]"
   ]
  },
  {
   "cell_type": "code",
   "execution_count": 5,
   "metadata": {},
   "outputs": [
    {
     "name": "stdout",
     "output_type": "stream",
     "text": [
      "CPU times: user 180 ms, sys: 3.09 ms, total: 183 ms\n",
      "Wall time: 182 ms\n"
     ]
    },
    {
     "data": {
      "image/png": "[encoded data removed]",
      "text/plain": [
       "<Figure size 432x288 with 1 Axes>"
      ]
     },
     "metadata": {},
     "output_type": "display_data"
    }
   ],
   "source": [
    "%%time\n",
    "\n",
    "NUM_LEVELS = 64\n",
    "\n",
    "def aggregate(orders, is_bid):\n",
    "    dfreq = {}\n",
    "    for dp, dv, _ in orders:\n",
    "        sp = str(dp)\n",
    "        v = np.float(dv)\n",
    "        if sp in dfreq:\n",
    "            dfreq[sp] += v\n",
    "        else:\n",
    "            dfreq[sp] = v\n",
    "    \n",
    "    lfreq = list(dfreq.items())\n",
    "    lfreq = [(np.float(p), v) for p, v in lfreq]\n",
    "    lfreq.sort()\n",
    "    \n",
    "    if is_bid:\n",
    "        return np.asarray(lfreq[-NUM_LEVELS:])\n",
    "    else:\n",
    "        return np.asarray(lfreq[:NUM_LEVELS])\n",
    "\n",
    "def get_vols(order_book):\n",
    "    cur_book = order_book.get_current_book()\n",
    "    bid_vols = aggregate(cur_book['bids'], True)\n",
    "    ask_vols = aggregate(cur_book['asks'], False)\n",
    "    return bid_vols, ask_vols\n",
    "\n",
    "bv, av = get_vols(order_book)\n",
    "plt.plot(bv[:, 0], bv[:, 1].sum() - bv[:, 1].cumsum())\n",
    "plt.plot(av[:, 0], av[:, 1].cumsum())"
   ]
  },
  {
   "cell_type": "code",
   "execution_count": 6,
   "metadata": {},
   "outputs": [
    {
     "name": "stdout",
     "output_type": "stream",
     "text": [
      "Will last 0.01388888888888889 hours\n"
     ]
    }
   ],
   "source": [
    "sz = int(50)\n",
    "bid_record = np.zeros((sz, NUM_LEVELS, 2))\n",
    "ask_record = np.zeros((sz, NUM_LEVELS, 2))\n",
    "time_record = np.zeros(sz)\n",
    "print(\"Will last\", sz / 60.0 / 60, \"hours\")"
   ]
  },
  {
   "cell_type": "code",
   "execution_count": 7,
   "metadata": {},
   "outputs": [],
   "source": [
    "def record_order_book(idx, order_book, t):\n",
    "    bv, av = get_vols(order_book)\n",
    "    bid_record[idx] = bv\n",
    "    ask_record[idx] = av\n",
    "    time_record[idx] = t"
   ]
  },
  {
   "cell_type": "code",
   "execution_count": 8,
   "metadata": {},
   "outputs": [
    {
     "name": "stdout",
     "output_type": "stream",
     "text": [
      "CPU times: user 162 ms, sys: 2.62 ms, total: 165 ms\n",
      "Wall time: 164 ms\n"
     ]
    }
   ],
   "source": [
    "%%time\n",
    "record_order_book(0, order_book, time.time())"
   ]
  },
  {
   "cell_type": "code",
   "execution_count": 9,
   "metadata": {},
   "outputs": [
    {
     "name": "stdout",
     "output_type": "stream",
     "text": [
      "-- Subscribed to OrderBook! --\n",
      "\n",
      "Doing initial sleep...\n",
      "Collecting data...\n",
      "Recording order_book every 0.5 seconds\n",
      "0\n",
      "20\n",
      "40\n"
     ]
    }
   ],
   "source": [
    "order_book.start()\n",
    "print(\"Doing initial sleep...\")\n",
    "time.sleep(10)\n",
    "print(\"Collecting data...\")\n",
    "\n",
    "TIME_STEP = 0.5\n",
    "print(\"Recording order_book every {} seconds\".format(TIME_STEP))\n",
    "try:\n",
    "    idx = 0\n",
    "    while idx < sz:\n",
    "        beg_time = time.time()\n",
    "        record_order_book(idx, order_book, time.time())\n",
    "        if idx % 20 == 0:\n",
    "            print(idx)\n",
    "        idx = idx + 1\n",
    "        end_time = time.time()\n",
    "        elapsed_time = end_time - beg_time\n",
    "        time.sleep(max(TIME_STEP - elapsed_time, 0))\n",
    "except KeyboardInterrupt as e:\n",
    "    order_book.close()\n",
    "    raise(e)"
   ]
  },
  {
   "cell_type": "code",
   "execution_count": 10,
   "metadata": {},
   "outputs": [
    {
     "data": {
      "text/plain": [
       "[<matplotlib.lines.Line2D at 0x114127128>]"
      ]
     },
     "execution_count": 10,
     "metadata": {},
     "output_type": "execute_result"
    },
    {
     "data": {
      "image/png": "[encoded data removed]",
      "text/plain": [
       "<Figure size 432x288 with 1 Axes>"
      ]
     },
     "metadata": {},
     "output_type": "display_data"
    }
   ],
   "source": [
    "plt.plot(time_record)"
   ]
  },
  {
   "cell_type": "code",
   "execution_count": 11,
   "metadata": {},
   "outputs": [
    {
     "data": {
      "text/plain": [
       "[<matplotlib.lines.Line2D at 0x111a39b70>]"
      ]
     },
     "execution_count": 11,
     "metadata": {},
     "output_type": "execute_result"
    },
    {
     "data": {
      "image/png": "[encoded data removed]",
      "text/plain": [
       "<Figure size 432x288 with 1 Axes>"
      ]
     },
     "metadata": {},
     "output_type": "display_data"
    }
   ],
   "source": [
    "plt.plot(bid_record[:,:,1].sum(axis=1))\n",
    "plt.plot(ask_record[:,:,1].sum(axis=1))"
   ]
  },
  {
   "cell_type": "code",
   "execution_count": 12,
   "metadata": {},
   "outputs": [],
   "source": [
    "np.save('data/bid_record.npy', bid_record)\n",
    "np.save('data/ask_record.npy', ask_record)\n",
    "np.save('data/time_record.npy', time_record)"
   ]
  }
 ],
 "metadata": {
  "kernelspec": {
   "display_name": "Python 3",
   "language": "python",
   "name": "python3"
  },
  "language_info": {
   "codemirror_mode": {
    "name": "ipython",
    "version": 3
   },
   "file_extension": ".py",
   "mimetype": "text/x-python",
   "name": "python",
   "nbconvert_exporter": "python",
   "pygments_lexer": "ipython3",
   "version": "3.6.5"
  }
 },
 "nbformat": 4,
 "nbformat_minor": 2
}
