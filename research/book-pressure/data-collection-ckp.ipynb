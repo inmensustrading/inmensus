{
 "cells": [
  {
   "cell_type": "code",
   "execution_count": 1,
   "metadata": {},
   "outputs": [],
   "source": [
    "from datetime import datetime\n",
    "import time\n",
    "\n",
    "import gdax\n",
    "import numpy as np\n",
    "import pandas as pd\n",
    "\n",
    "%matplotlib inline\n",
    "import matplotlib.pyplot as plt"
   ]
  },
  {
   "cell_type": "code",
   "execution_count": 2,
   "metadata": {},
   "outputs": [],
   "source": [
    "order_book = gdax.OrderBook(product_id='BTC-USD')"
   ]
  },
  {
   "cell_type": "code",
   "execution_count": 3,
   "metadata": {},
   "outputs": [
    {
     "name": "stdout",
     "output_type": "stream",
     "text": [
      "-- Subscribed to OrderBook! --\n",
      "\n",
      "\n",
      "-- OrderBook Socket Closed! --\n"
     ]
    }
   ],
   "source": [
    "order_book.start()\n",
    "time.sleep(10)\n",
    "order_book.close()"
   ]
  },
  {
   "cell_type": "code",
   "execution_count": 4,
   "metadata": {},
   "outputs": [
    {
     "data": {
      "text/plain": [
       "[Decimal('6340.8'), Decimal('0.00182'), '24b4d9ff-c2c8-4a4c-a8ab-ea4e5851033f']"
      ]
     },
     "execution_count": 4,
     "metadata": {},
     "output_type": "execute_result"
    }
   ],
   "source": [
    "order_book.get_current_book()['bids'][-1]"
   ]
  },
  {
   "cell_type": "code",
   "execution_count": 5,
   "metadata": {},
   "outputs": [
    {
     "name": "stdout",
     "output_type": "stream",
     "text": [
      "Wall time: 153 ms\n"
     ]
    },
    {
     "data": {
      "image/png": "[encoded data removed]",
      "text/plain": [
       "<Figure size 432x288 with 1 Axes>"
      ]
     },
     "metadata": {},
     "output_type": "display_data"
    }
   ],
   "source": [
    "%%time\n",
    "\n",
    "NUM_LEVELS = 256\n",
    "\n",
    "def aggregate(orders, is_bid):\n",
    "    dfreq = {}\n",
    "    for dp, dv, _ in orders:\n",
    "        sp = str(dp)\n",
    "        v = np.float(dv)\n",
    "        if sp in dfreq:\n",
    "            dfreq[sp] += v\n",
    "        else:\n",
    "            dfreq[sp] = v\n",
    "    \n",
    "    lfreq = list(dfreq.items())\n",
    "    lfreq = [(np.float(p), v) for p, v in lfreq]\n",
    "    lfreq.sort()\n",
    "    \n",
    "    if is_bid:\n",
    "        return np.asarray(lfreq[-NUM_LEVELS:])\n",
    "    else:\n",
    "        return np.asarray(lfreq[:NUM_LEVELS])\n",
    "\n",
    "def get_vols(order_book):\n",
    "    cur_book = order_book.get_current_book()\n",
    "    bid_vols = aggregate(cur_book['bids'], True)\n",
    "    ask_vols = aggregate(cur_book['asks'], False)\n",
    "    return bid_vols, ask_vols\n",
    "\n",
    "bv, av = get_vols(order_book)\n",
    "plt.plot(bv[:, 0], bv[:, 1].sum() - bv[:, 1].cumsum())\n",
    "plt.plot(av[:, 0], av[:, 1].cumsum())"
   ]
  },
  {
   "cell_type": "code",
   "execution_count": 6,
   "metadata": {},
   "outputs": [
    {
     "name": "stdout",
     "output_type": "stream",
     "text": [
      "Will last 27.77777777777778 hours\n"
     ]
    }
   ],
   "source": [
    "sz = int(1e5)\n",
    "bid_record = np.zeros((sz, NUM_LEVELS, 2))\n",
    "ask_record = np.zeros((sz, NUM_LEVELS, 2))\n",
    "time_record = np.zeros(sz)\n",
    "print(\"Will last\", sz / 60.0 / 60, \"hours\")"
   ]
  },
  {
   "cell_type": "code",
   "execution_count": 7,
   "metadata": {},
   "outputs": [],
   "source": [
    "def record_order_book(idx, order_book, t):\n",
    "    bv, av = get_vols(order_book)\n",
    "    bid_record[idx] = bv\n",
    "    ask_record[idx] = av\n",
    "    time_record[idx] = t"
   ]
  },
  {
   "cell_type": "code",
   "execution_count": 8,
   "metadata": {},
   "outputs": [
    {
     "name": "stdout",
     "output_type": "stream",
     "text": [
      "Wall time: 175 ms\n"
     ]
    }
   ],
   "source": [
    "%%time\n",
    "record_order_book(0, order_book, time.time())"
   ]
  },
  {
   "cell_type": "code",
   "execution_count": null,
   "metadata": {},
   "outputs": [
    {
     "name": "stdout",
     "output_type": "stream",
     "text": [
      "-- Subscribed to OrderBook! --\n",
      "\n",
      "Doing initial sleep...\n",
      "Collecting data...\n",
      "Recording order_book every 0.5 seconds for 100000 seconds in total\n",
      "[6279.2  6279.3  6279.31 6279.32 6280.  ] [6361.2  6361.33 6361.35 6361.36 6361.39] 1529673541.4202926\n",
      "Time elapsed:  0.14987802505493164\n"
     ]
    }
   ],
   "source": [
    "order_book.start()\n",
    "print(\"Doing initial sleep...\")\n",
    "time.sleep(10)\n",
    "print(\"Collecting data...\")\n",
    "\n",
    "TIME_STEP = 0.5\n",
    "print(\"Recording order_book every {} seconds for {} seconds in total\".format(TIME_STEP, sz))\n",
    "checkpoints = 1000\n",
    "try:\n",
    "    idx = 0\n",
    "    while idx < sz:\n",
    "        beg_time = time.time()\n",
    "        record_order_book(idx, order_book, time.time())\n",
    "        if idx % (sz // checkpoints) == 0:\n",
    "            # checkpoint\n",
    "            print(bid_record[idx,-5:,0], ask_record[idx,-5:,0], time_record[idx])\n",
    "            \n",
    "            print(\"Time elapsed: \", time.time() - beg_time)\n",
    "        idx = idx + 1\n",
    "        end_time = time.time()\n",
    "        elapsed_time = end_time - beg_time\n",
    "        time.sleep(max(TIME_STEP - elapsed_time, 0))\n",
    "except KeyboardInterrupt as e:\n",
    "    order_book.close()\n",
    "    raise(e)"
   ]
  },
  {
   "cell_type": "code",
   "execution_count": 15,
   "metadata": {},
   "outputs": [
    {
     "data": {
      "text/plain": [
       "[<matplotlib.lines.Line2D at 0x1a9f6ffb198>]"
      ]
     },
     "execution_count": 15,
     "metadata": {},
     "output_type": "execute_result"
    },
    {
     "data": {
      "image/png": "[encoded data removed]",
      "text/plain": [
       "<Figure size 432x288 with 1 Axes>"
      ]
     },
     "metadata": {},
     "output_type": "display_data"
    }
   ],
   "source": [
    "plt.plot(time_record)"
   ]
  },
  {
   "cell_type": "code",
   "execution_count": 16,
   "metadata": {},
   "outputs": [
    {
     "data": {
      "text/plain": [
       "[<matplotlib.lines.Line2D at 0x1a9f2575860>]"
      ]
     },
     "execution_count": 16,
     "metadata": {},
     "output_type": "execute_result"
    },
    {
     "data": {
      "image/png": "[encoded data removed]",
      "text/plain": [
       "<Figure size 432x288 with 1 Axes>"
      ]
     },
     "metadata": {},
     "output_type": "display_data"
    }
   ],
   "source": [
    "plt.plot(bid_record[:,:,1].sum(axis=1))\n",
    "plt.plot(ask_record[:,:,1].sum(axis=1))"
   ]
  },
  {
   "cell_type": "code",
   "execution_count": 17,
   "metadata": {},
   "outputs": [],
   "source": [
    "np.save('data/bid_record.npy', bid_record)\n",
    "np.save('data/ask_record.npy', ask_record)\n",
    "np.save('data/time_record.npy', time_record)"
   ]
  },
  {
   "cell_type": "code",
   "execution_count": null,
   "metadata": {},
   "outputs": [],
   "source": []
  }
 ],
 "metadata": {
  "kernelspec": {
   "display_name": "Python 3",
   "language": "python",
   "name": "python3"
  },
  "language_info": {
   "codemirror_mode": {
    "name": "ipython",
    "version": 3
   },
   "file_extension": ".py",
   "mimetype": "text/x-python",
   "name": "python",
   "nbconvert_exporter": "python",
   "pygments_lexer": "ipython3",
   "version": "3.6.5"
  }
 },
 "nbformat": 4,
 "nbformat_minor": 2
}
